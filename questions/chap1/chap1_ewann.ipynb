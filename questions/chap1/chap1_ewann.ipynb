{
 "cells": [
  {
   "cell_type": "markdown",
   "metadata": {},
   "source": [
    "# Hugo"
   ]
  },
  {
   "cell_type": "code",
   "execution_count": 13,
   "metadata": {},
   "outputs": [
    {
     "name": "stdout",
     "output_type": "stream",
     "text": [
      "False\n"
     ]
    }
   ],
   "source": [
    "# 1.2 Hugo\n",
    "def CheckIsPermutation(str1, str2):\n",
    "    if len(str1) != len(str2):\n",
    "        return False\n",
    "    str1 = ''.join(sorted(str1))\n",
    "    str2 = ''.join(sorted(str2))\n",
    "    return str1 == str2\n",
    "\n",
    "a = \"doga\"\n",
    "b = \"gofd\"\n",
    "print(CheckIsPermutation(a,b))"
   ]
  },
  {
   "cell_type": "code",
   "execution_count": 28,
   "metadata": {},
   "outputs": [
    {
     "name": "stdout",
     "output_type": "stream",
     "text": [
      "Mr%20John%20Smith\n",
      "Mr%20John%20Smith\n",
      "Mr%20John%20Smith\n"
     ]
    }
   ],
   "source": [
    "# 1.3 Hugo\n",
    "def URLify_easy(input_str, len_str):\n",
    "    input_str = input_str[:len_str]\n",
    "    input_str = input_str.replace(' ', '%20')\n",
    "    return input_str\n",
    "\n",
    "def URLify_in_place(input_str, len_str):\n",
    "    input_str = input_str[:len_str]\n",
    "    i = 0\n",
    "    while i < len(input_str):\n",
    "        if input_str[i] == ' ':\n",
    "            input_str = input_str[:i] + '%20' + input_str [i+1:]\n",
    "        i += 1\n",
    "    return input_str\n",
    "\n",
    "def URLify_other(input_str, len_str):\n",
    "    input_str = input_str[:len_str]\n",
    "    output_str = \"\"\n",
    "    for letter in input_str:\n",
    "        if letter == ' ':\n",
    "            output_str += '%20'\n",
    "        else:\n",
    "            output_str += letter\n",
    "    return output_str\n",
    "\n",
    "print(URLify_easy(\"Mr John Smith    \", 13))\n",
    "print(URLify_in_place(\"Mr John Smith    \", 13))\n",
    "print(URLify_other(\"Mr John Smith    \", 13))"
   ]
  },
  {
   "cell_type": "code",
   "execution_count": 49,
   "metadata": {},
   "outputs": [
    {
     "name": "stdout",
     "output_type": "stream",
     "text": [
      "False\n"
     ]
    }
   ],
   "source": [
    "# 1.4 Hugo\n",
    "def IsPalyndromePermutation(input_str):\n",
    "    input_str = input_str.lower()\n",
    "    dict_letters = {}\n",
    "    for letter in input_str:\n",
    "        if letter != ' ':\n",
    "            if letter in dict_letters.keys():\n",
    "                dict_letters[letter] +=1\n",
    "            else:\n",
    "                dict_letters[letter] = 1\n",
    "\n",
    "    tot_odd_numbers = 0\n",
    "    for key in dict_letters.keys():\n",
    "        if dict_letters[key] % 2 != 0:\n",
    "            tot_odd_numbers += 1\n",
    "    return tot_odd_numbers <= 1\n",
    "\n",
    "print(IsPalyndromePermutation(\"Tact Casq\"))"
   ]
  },
  {
   "cell_type": "code",
   "execution_count": 77,
   "metadata": {},
   "outputs": [
    {
     "name": "stdout",
     "output_type": "stream",
     "text": [
      "True\n",
      "True\n",
      "True\n",
      "True\n",
      "False\n"
     ]
    }
   ],
   "source": [
    "# 1.5 Hugo\n",
    "def CheckOneAway(str1, str2):\n",
    "    if abs(len(str1) - len(str2)) > 1:\n",
    "        return False\n",
    "\n",
    "    diffs = 0\n",
    "    i = 0\n",
    "    j = 0\n",
    "    while i < len(str1) and j < len(str2):\n",
    "        if str1[i] != str2[j]:\n",
    "            diffs += 1\n",
    "            if i + 1 < len(str1) and str1[i + 1] == str2[j]:\n",
    "                i += 1\n",
    "            elif j + 1 < len(str2) and str1[i] == str2[j + 1]:\n",
    "                j += 1\n",
    "            else:\n",
    "                i += 1\n",
    "                j += 1\n",
    "        else:\n",
    "            i += 1\n",
    "            j += 1\n",
    "        if diffs > 1:\n",
    "            return False\n",
    "    return True\n",
    "\n",
    "print(CheckOneAway(\"pale\", \"ple\"))\n",
    "print(CheckOneAway(\"pales\", \"pale\"))\n",
    "print(CheckOneAway(\"pale\", \"bale\"))\n",
    "print(CheckOneAway(\"pale\", \"pale\"))\n",
    "print(CheckOneAway(\"pale\", \"bake\"))"
   ]
  },
  {
   "cell_type": "code",
   "execution_count": 88,
   "metadata": {},
   "outputs": [
    {
     "name": "stdout",
     "output_type": "stream",
     "text": [
      "a2b1c5a3\n"
     ]
    }
   ],
   "source": [
    "# 1.6 Hugo\n",
    "\n",
    "def Compress(input_str):\n",
    "    output_str = \"\"\n",
    "    current_letter = input_str[0]\n",
    "    nb_letter = 1\n",
    "    for i in range(1, len(input_str)):\n",
    "        if input_str[i] == current_letter:\n",
    "            nb_letter += 1\n",
    "        else:\n",
    "            output_str += current_letter + str(nb_letter)\n",
    "            nb_letter = 1\n",
    "            current_letter = input_str[i]\n",
    "    output_str += current_letter + str(nb_letter)\n",
    "\n",
    "    if len(output_str) < len(input_str):\n",
    "        return output_str\n",
    "    return input_str\n",
    "\n",
    "print(Compress(\"aabcccccaaa\"))"
   ]
  },
  {
   "cell_type": "markdown",
   "metadata": {},
   "source": [
    "# Ewann"
   ]
  },
  {
   "cell_type": "code",
   "execution_count": 4,
   "metadata": {},
   "outputs": [
    {
     "name": "stdout",
     "output_type": "stream",
     "text": [
      "False\n",
      "True\n"
     ]
    }
   ],
   "source": [
    "\n",
    "# 1.1 Ewann\n",
    "def IsUnique(input_str):\n",
    "    dictionnary = {}\n",
    "    for letter in input_str:\n",
    "        if letter in dictionnary.keys():\n",
    "            return False\n",
    "        dictionnary[letter] = True\n",
    "    return True\n",
    "\n",
    "a = \"aopsaw\"\n",
    "b = \"aopsw\"\n",
    "print(IsUnique(a))\n",
    "print(IsUnique(b))"
   ]
  },
  {
   "cell_type": "code",
   "execution_count": 11,
   "metadata": {},
   "outputs": [
    {
     "name": "stdout",
     "output_type": "stream",
     "text": [
      "True\n"
     ]
    }
   ],
   "source": [
    "# 1.2 Ewann\n",
    "def permutation(str1, str2):\n",
    "    if len(str1) != len(str2):\n",
    "        return False\n",
    "    str1 = sorted(str1)\n",
    "    str2 = sorted(str2)\n",
    "    return str1 == str2\n",
    "\n",
    "a = \"dog\"\n",
    "b = \"god\"\n",
    "print(permutation(a,b))\n",
    "\n"
   ]
  },
  {
   "cell_type": "code",
   "execution_count": 32,
   "metadata": {},
   "outputs": [
    {
     "name": "stdout",
     "output_type": "stream",
     "text": [
      "Mr%20John%20Smith\n"
     ]
    }
   ],
   "source": [
    "# 1.3 Ewann\n",
    "def URLify(data, len):\n",
    "    data = data[:len].replace(' ','%20')\n",
    "    return data\n",
    "\n",
    "a = \"Mr John Smith            \"\n",
    "print(URLify(a,13))\n"
   ]
  },
  {
   "cell_type": "code",
   "execution_count": 61,
   "metadata": {},
   "outputs": [
    {
     "name": "stdout",
     "output_type": "stream",
     "text": [
      "True\n"
     ]
    }
   ],
   "source": [
    "# 1.4 Ewann\n",
    "def IsPalindromePermutation(data):\n",
    "    dictionnary = {}\n",
    "    for letter in data:\n",
    "        if letter == ' ':\n",
    "            continue\n",
    "        letter = letter.lower()\n",
    "        if letter in dictionnary.keys():\n",
    "            dictionnary[letter] += 1\n",
    "        else:\n",
    "            dictionnary[letter] = 1\n",
    "\n",
    "    odd_key = 0\n",
    "    for key in dictionnary.keys():\n",
    "        if  dictionnary[key] % 2:\n",
    "            odd_key += 1\n",
    "            if odd_key > 1:\n",
    "                return False\n",
    "    return True\n",
    "\n",
    "print(IsPalindromePermutation(\"Tact Coa\"))\n"
   ]
  },
  {
   "cell_type": "code",
   "execution_count": 81,
   "metadata": {},
   "outputs": [
    {
     "name": "stdout",
     "output_type": "stream",
     "text": [
      "True\n",
      "True\n",
      "True\n",
      "True\n",
      "False\n"
     ]
    }
   ],
   "source": [
    "# 1.5 Ewann\n",
    "def OneWay(str1, str2):\n",
    "    if abs(len(str1) - len(str2)) > 1:\n",
    "        return False\n",
    "\n",
    "    index1 = 0\n",
    "    index2 = 0\n",
    "    diff_count = 0\n",
    "\n",
    "    while index1 < len(str1) and index2 < len(str2) and diff_count < 2:\n",
    "        element1 = str1[index1]\n",
    "        element2 = str2[index2]\n",
    "        index1 += 1\n",
    "        index2 +=1\n",
    "        if element1 == element2:\n",
    "            continue\n",
    "\n",
    "        diff_count += 1\n",
    "        if len(str1) == len(str2):\n",
    "            continue\n",
    "        if len(str1) > len(str2):\n",
    "            index2 += 1\n",
    "        else:\n",
    "            index1 +=1\n",
    "\n",
    "    return diff_count < 2\n",
    "\n",
    "\n",
    "print(OneWay('pale','ple'))\n",
    "print(OneWay('pales','pale'))\n",
    "print(OneWay('pales','pale'))\n",
    "print(OneWay('pale','pale'))\n",
    "print(OneWay('pale','bake'))\n",
    "\n",
    "\n",
    "\n",
    "\n",
    "\n"
   ]
  },
  {
   "cell_type": "code",
   "execution_count": 109,
   "metadata": {},
   "outputs": [
    {
     "name": "stdout",
     "output_type": "stream",
     "text": [
      "a2b1c5a3\n"
     ]
    }
   ],
   "source": [
    "# .6 Ewann\n",
    "def StringCompression(input_str):\n",
    "    output_str = \"\"\n",
    "    preivous_letter = input_str[0]\n",
    "    previous_count = 1\n",
    "\n",
    "    for i in range(1, len(input_str)):\n",
    "        if input_str[i] == preivous_letter:\n",
    "            previous_count += 1\n",
    "        else:\n",
    "            output_str += preivous_letter + str(previous_count)\n",
    "            previous_count =1\n",
    "            preivous_letter = input_str[i]\n",
    "    \n",
    "    output_str += preivous_letter + str(previous_count)\n",
    "\n",
    "    if len(output_str) == len(input_str):\n",
    "        return input_str\n",
    "    return output_str\n",
    "\n",
    "print(StringCompression(\"aabcccccaaa\"))\n"
   ]
  }
 ],
 "metadata": {
  "interpreter": {
   "hash": "31f2aee4e71d21fbe5cf8b01ff0e069b9275f58929596ceb00d14d90e3e16cd6"
  },
  "kernelspec": {
   "display_name": "Python 3.8.9 64-bit",
   "language": "python",
   "name": "python3"
  },
  "language_info": {
   "codemirror_mode": {
    "name": "ipython",
    "version": 3
   },
   "file_extension": ".py",
   "mimetype": "text/x-python",
   "name": "python",
   "nbconvert_exporter": "python",
   "pygments_lexer": "ipython3",
   "version": "3.8.9"
  },
  "orig_nbformat": 4
 },
 "nbformat": 4,
 "nbformat_minor": 2
}
