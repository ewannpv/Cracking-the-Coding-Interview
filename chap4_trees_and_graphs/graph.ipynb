{
 "cells": [
  {
   "cell_type": "code",
   "execution_count": null,
   "metadata": {},
   "outputs": [],
   "source": []
  },
  {
   "cell_type": "code",
   "execution_count": 13,
   "metadata": {},
   "outputs": [],
   "source": [
    "class GNode:\n",
    "    def __init__(self, data, children=[]):\n",
    "        self.data = data\n",
    "        self.children = children\n",
    "\n",
    "class Graph:\n",
    "    def __init__(self, nodes=[]):\n",
    "        self.nodes = nodes\n",
    "\n",
    "def _DFSSearch(node, data, dict_nodes):\n",
    "    if node == None:\n",
    "        return\n",
    "    if node.data == data:\n",
    "        return node\n",
    "    dict_nodes[node] = True\n",
    "    for child in node.children:\n",
    "        if child not in dict_nodes.keys():\n",
    "            _DFSSearch(child, data, dict_nodes)\n",
    "    return\n",
    "\n",
    "def DFSSearch(node, data):\n",
    "    return _DFSSearch(node, data, {})\n",
    "\n",
    "def BFSSearch(node, data):\n",
    "    queue = [node]\n",
    "    while len(queue) > 0:\n",
    "        current_node = queue.pop()\n"
   ]
  }
 ],
 "metadata": {
  "file_extension": ".py",
  "kernelspec": {
   "display_name": "Python 3.8.5 64-bit",
   "name": "python38564bit40f713908f6440e19f878acec12028fe"
  },
  "language_info": {
   "codemirror_mode": {
    "name": "ipython",
    "version": 3
   },
   "name": "python",
   "version": "3.8.5-final"
  },
  "mimetype": "text/x-python",
  "name": "python",
  "npconvert_exporter": "python",
  "orig_nbformat": 2,
  "pygments_lexer": "ipython3",
  "version": 3
 },
 "nbformat": 4,
 "nbformat_minor": 2
}
