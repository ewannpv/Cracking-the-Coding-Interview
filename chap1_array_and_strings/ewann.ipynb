{
 "cells": [
  {
   "cell_type": "markdown",
   "metadata": {},
   "source": [
    "# Ewann"
   ]
  },
  {
   "cell_type": "code",
   "execution_count": 4,
   "metadata": {},
   "outputs": [
    {
     "name": "stdout",
     "output_type": "stream",
     "text": [
      "False\n",
      "True\n"
     ]
    }
   ],
   "source": [
    "\n",
    "# 1.1 Ewann\n",
    "def IsUnique(input_str):\n",
    "    dictionnary = {}\n",
    "    for letter in input_str:\n",
    "        if letter in dictionnary.keys():\n",
    "            return False\n",
    "        dictionnary[letter] = True\n",
    "    return True\n",
    "\n",
    "a = \"aopsaw\"\n",
    "b = \"aopsw\"\n",
    "print(IsUnique(a))\n",
    "print(IsUnique(b))"
   ]
  },
  {
   "cell_type": "code",
   "execution_count": 11,
   "metadata": {},
   "outputs": [
    {
     "name": "stdout",
     "output_type": "stream",
     "text": [
      "True\n"
     ]
    }
   ],
   "source": [
    "# 1.2 Ewann\n",
    "def permutation(str1, str2):\n",
    "    if len(str1) != len(str2):\n",
    "        return False\n",
    "    str1 = sorted(str1)\n",
    "    str2 = sorted(str2)\n",
    "    return str1 == str2\n",
    "\n",
    "a = \"dog\"\n",
    "b = \"god\"\n",
    "print(permutation(a,b))\n",
    "\n"
   ]
  },
  {
   "cell_type": "code",
   "execution_count": 32,
   "metadata": {},
   "outputs": [
    {
     "name": "stdout",
     "output_type": "stream",
     "text": [
      "Mr%20John%20Smith\n"
     ]
    }
   ],
   "source": [
    "# 1.3 Ewann\n",
    "def URLify(data, len):\n",
    "    data = data[:len].replace(' ','%20')\n",
    "    return data\n",
    "\n",
    "a = \"Mr John Smith            \"\n",
    "print(URLify(a,13))\n"
   ]
  },
  {
   "cell_type": "code",
   "execution_count": 61,
   "metadata": {},
   "outputs": [
    {
     "name": "stdout",
     "output_type": "stream",
     "text": [
      "True\n"
     ]
    }
   ],
   "source": [
    "# 1.4 Ewann\n",
    "def IsPalindromePermutation(data):\n",
    "    dictionnary = {}\n",
    "    for letter in data:\n",
    "        if letter == ' ':\n",
    "            continue\n",
    "        letter = letter.lower()\n",
    "        if letter in dictionnary.keys():\n",
    "            dictionnary[letter] += 1\n",
    "        else:\n",
    "            dictionnary[letter] = 1\n",
    "\n",
    "    odd_key = 0\n",
    "    for key in dictionnary.keys():\n",
    "        if  dictionnary[key] % 2:\n",
    "            odd_key += 1\n",
    "            if odd_key > 1:\n",
    "                return False\n",
    "    return True\n",
    "\n",
    "print(IsPalindromePermutation(\"Tact Coa\"))\n"
   ]
  },
  {
   "cell_type": "code",
   "execution_count": 81,
   "metadata": {},
   "outputs": [
    {
     "name": "stdout",
     "output_type": "stream",
     "text": [
      "True\n",
      "True\n",
      "True\n",
      "True\n",
      "False\n"
     ]
    }
   ],
   "source": [
    "# 1.5 Ewann\n",
    "def OneWay(str1, str2):\n",
    "    if abs(len(str1) - len(str2)) > 1:\n",
    "        return False\n",
    "\n",
    "    index1 = 0\n",
    "    index2 = 0\n",
    "    diff_count = 0\n",
    "\n",
    "    while index1 < len(str1) and index2 < len(str2) and diff_count < 2:\n",
    "        element1 = str1[index1]\n",
    "        element2 = str2[index2]\n",
    "        index1 += 1\n",
    "        index2 +=1\n",
    "        if element1 == element2:\n",
    "            continue\n",
    "\n",
    "        diff_count += 1\n",
    "        if len(str1) == len(str2):\n",
    "            continue\n",
    "        if len(str1) > len(str2):\n",
    "            index2 += 1\n",
    "        else:\n",
    "            index1 +=1\n",
    "\n",
    "    return diff_count < 2\n",
    "\n",
    "\n",
    "print(OneWay('pale','ple'))\n",
    "print(OneWay('pales','pale'))\n",
    "print(OneWay('pales','pale'))\n",
    "print(OneWay('pale','pale'))\n",
    "print(OneWay('pale','bake'))\n",
    "\n",
    "\n",
    "\n",
    "\n",
    "\n"
   ]
  },
  {
   "cell_type": "code",
   "execution_count": 109,
   "metadata": {},
   "outputs": [
    {
     "name": "stdout",
     "output_type": "stream",
     "text": [
      "a2b1c5a3\n"
     ]
    }
   ],
   "source": [
    "# 1.6 Ewann\n",
    "def StringCompression(input_str):\n",
    "    output_str = \"\"\n",
    "    preivous_letter = input_str[0]\n",
    "    previous_count = 1\n",
    "\n",
    "    for i in range(1, len(input_str)):\n",
    "        if input_str[i] == preivous_letter:\n",
    "            previous_count += 1\n",
    "        else:\n",
    "            output_str += preivous_letter + str(previous_count)\n",
    "            previous_count =1\n",
    "            preivous_letter = input_str[i]\n",
    "    \n",
    "    output_str += preivous_letter + str(previous_count)\n",
    "\n",
    "    if len(output_str) == len(input_str):\n",
    "        return input_str\n",
    "    return output_str\n",
    "\n",
    "print(StringCompression(\"aabcccccaaa\"))\n"
   ]
  },
  {
   "cell_type": "code",
   "execution_count": 37,
   "metadata": {},
   "outputs": [
    {
     "name": "stdout",
     "output_type": "stream",
     "text": [
      "[ ' 1 ' ,   ' 1 ' ,   ' 1 ' ,   ' 1 ' ,   ' 1 ' ]\n",
      "[ ' 2 ' ,   ' 2 ' ,   ' 2 ' ,   ' 2 ' ,   ' 2 ' ]\n",
      "[ ' 3 ' ,   ' 3 ' ,   ' 3 ' ,   ' 3 ' ,   ' 3 ' ]\n",
      "[ ' 4 ' ,   ' 4 ' ,   ' 4 ' ,   ' 4 ' ,   ' 4 ' ]\n",
      "[ ' 5 ' ,   ' 5 ' ,   ' 5 ' ,   ' 5 ' ,   ' 5 ' ]\n",
      "-----\n",
      "[ ' 5 ' ,   ' 4 ' ,   ' 3 ' ,   ' 2 ' ,   ' 1 ' ]\n",
      "[ ' 5 ' ,   ' 4 ' ,   ' 3 ' ,   ' 2 ' ,   ' 1 ' ]\n",
      "[ ' 5 ' ,   ' 4 ' ,   ' 3 ' ,   ' 2 ' ,   ' 1 ' ]\n",
      "[ ' 5 ' ,   ' 4 ' ,   ' 3 ' ,   ' 2 ' ,   ' 1 ' ]\n",
      "[ ' 5 ' ,   ' 4 ' ,   ' 3 ' ,   ' 2 ' ,   ' 1 ' ]\n"
     ]
    }
   ],
   "source": [
    "# 1.7 Ewann\n",
    "def RotateMatrix(matrix):\n",
    "    matrix_len = len(matrix)-1\n",
    "    for i in range(0, int(matrix_len /2)):\n",
    "        for j in range(i, matrix_len-i):\n",
    "            offset = j-i\n",
    "            top = matrix[i][j]\n",
    "            matrix[i][j] = matrix[matrix_len-i-offset][i]\n",
    "            matrix[matrix_len-i-offset][i] = matrix[matrix_len-i][matrix_len-i -offset]\n",
    "            matrix[matrix_len-i][matrix_len-i -offset] =  matrix[j][matrix_len-i]\n",
    "            matrix[j][matrix_len-i] = top\n",
    "    return matrix\n",
    "\n",
    "def PrintMatrix(matrix):\n",
    "    for line in matrix:\n",
    "        print(\" \".join(str(line)))\n",
    "\n",
    "matrix_1 = [\n",
    "    [\"1\",\"1\",\"1\",\"1\",\"1\",],\n",
    "    [\"2\",\"2\",\"2\",\"2\",\"2\",],\n",
    "    [\"3\",\"3\",\"3\",\"3\",\"3\",],\n",
    "    [\"4\",\"4\",\"4\",\"4\",\"4\",],\n",
    "    [\"5\",\"5\",\"5\",\"5\",\"5\",],\n",
    "]\n",
    "\n",
    "PrintMatrix(matrix_1)\n",
    "print(\"-----\")\n",
    "PrintMatrix(RotateMatrix(matrix_1))"
   ]
  },
  {
   "cell_type": "code",
   "execution_count": 39,
   "metadata": {},
   "outputs": [
    {
     "name": "stdout",
     "output_type": "stream",
     "text": [
      "[ ' 1 ' ,   ' 0 ' ,   ' 1 ' ,   ' 1 ' ,   ' 1 ' ]\n",
      "[ ' 2 ' ,   ' 0 ' ,   ' 2 ' ,   ' 2 ' ,   ' 2 ' ]\n",
      "[ ' 3 ' ,   ' 0 ' ,   ' 3 ' ,   ' 3 ' ,   ' 3 ' ]\n",
      "[ ' 4 ' ,   ' 0 ' ,   ' 4 ' ,   ' 4 ' ,   ' 3 ' ]\n",
      "[ ' 0 ' ,   ' 0 ' ,   ' 0 ' ,   ' 0 ' ,   ' 0 ' ]\n"
     ]
    }
   ],
   "source": [
    "# 1.8 Ewann\n",
    "def ZeroMatrix(matrix):\n",
    "    rows_len = len(matrix)\n",
    "    columns_len = len(matrix[0]) \n",
    "    check_rows = [False for i in range(rows_len)]\n",
    "    check_columns = [False for i in range(columns_len)]\n",
    "\n",
    "    for i in range(rows_len):\n",
    "        for j in  range(columns_len):\n",
    "            if matrix[i][j] == \"0\":\n",
    "                check_rows[i] = True\n",
    "                check_columns[j] = True\n",
    "\n",
    "    for i in range(rows_len):\n",
    "        if check_rows[i] == True:\n",
    "            for j in range(columns_len):\n",
    "                matrix[i][j] = \"0\"\n",
    "    for j in range(columns_len):\n",
    "        if check_columns[j] == True:\n",
    "            for i in range(rows_len):\n",
    "                matrix[i][j] = \"0\"\n",
    "    return matrix\n",
    "\n",
    "\n",
    "matrix_2 = [\n",
    "    [\"1\",\"1\",\"1\",\"1\",\"1\",],\n",
    "    [\"2\",\"2\",\"2\",\"2\",\"2\",],\n",
    "    [\"3\",\"3\",\"3\",\"3\",\"3\",],\n",
    "    [\"4\",\"4\",\"4\",\"4\",\"3\",],\n",
    "    [\"5\",\"0\",\"5\",\"5\",\"5\",],\n",
    "]\n",
    "PrintMatrix(ZeroMatrix(matrix_2))"
   ]
  }
 ],
 "metadata": {
  "interpreter": {
   "hash": "31f2aee4e71d21fbe5cf8b01ff0e069b9275f58929596ceb00d14d90e3e16cd6"
  },
  "kernelspec": {
   "display_name": "Python 3.8.9 64-bit",
   "language": "python",
   "name": "python3"
  },
  "language_info": {
   "codemirror_mode": {
    "name": "ipython",
    "version": 3
   },
   "file_extension": ".py",
   "mimetype": "text/x-python",
   "name": "python",
   "nbconvert_exporter": "python",
   "pygments_lexer": "ipython3",
   "version": "3.8.9"
  },
  "orig_nbformat": 4
 },
 "nbformat": 4,
 "nbformat_minor": 2
}
