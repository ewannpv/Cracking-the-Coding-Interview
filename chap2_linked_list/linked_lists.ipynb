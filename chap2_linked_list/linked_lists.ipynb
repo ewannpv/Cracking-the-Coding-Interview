{
 "cells": [
  {
   "cell_type": "markdown",
   "metadata": {},
   "source": [
    "# Linked Lists \n",
    "\n",
    "A linked list is a data structure that represents a sequence of nodes. In a singly linked list, each node\n",
    "points to the next node in the linked list.\n",
    "A doubly linked list gives each node pointers to both the next node and the previous node."
   ]
  },
  {
   "cell_type": "code",
   "execution_count": 7,
   "metadata": {},
   "outputs": [],
   "source": [
    "class Node:\n",
    "    def __init__(self, data = None, next = None):\n",
    "        self.data = data\n",
    "        self.next = next\n",
    "\n",
    "class LinkedList:\n",
    "    def __init__(self):\n",
    "        self.head = None\n",
    "    \n",
    "    def insert(self, data):\n",
    "        new_node = Node(data)\n",
    "        current_node = self.head\n",
    "        if not current_node:\n",
    "            self.head = new_node\n",
    "            return\n",
    "        \n",
    "        while current_node.next:\n",
    "            current_node = current_node.next\n",
    "        current_node.next = new_node\n",
    "    \n",
    "    def delete(self, data):\n",
    "        current_node = self.head\n",
    "        if not current_node:\n",
    "            return\n",
    "        if(current_node.data == data):\n",
    "            self.head = current_node.next\n",
    "            return current_node.data\n",
    "        while(current_node.next):\n",
    "            next_node = current_node.next\n",
    "            if(next_node.data == data):\n",
    "                current_node.next = next_node.next\n",
    "                return next_node.data\n",
    "            current_node = next_node        \n",
    "    \n",
    "    def print(self):\n",
    "        output = \"\"\n",
    "        current_node = self.head\n",
    "        while current_node:\n",
    "            output += \"(\"+str(current_node.data)+\") =>\"\n",
    "            current_node = current_node.next\n",
    "        print(output)\n"
   ]
  }
 ],
 "metadata": {
  "interpreter": {
   "hash": "31f2aee4e71d21fbe5cf8b01ff0e069b9275f58929596ceb00d14d90e3e16cd6"
  },
  "kernelspec": {
   "display_name": "Python 3.8.9 64-bit",
   "language": "python",
   "name": "python3"
  },
  "language_info": {
   "codemirror_mode": {
    "name": "ipython",
    "version": 3
   },
   "file_extension": ".py",
   "mimetype": "text/x-python",
   "name": "python",
   "nbconvert_exporter": "python",
   "pygments_lexer": "ipython3",
   "version": "3.8.9"
  },
  "orig_nbformat": 4
 },
 "nbformat": 4,
 "nbformat_minor": 2
}
