{
 "cells": [
  {
   "cell_type": "markdown",
   "metadata": {},
   "source": [
    "# Hugo"
   ]
  },
  {
   "cell_type": "code",
   "execution_count": 39,
   "metadata": {},
   "outputs": [],
   "source": [
    "# Import linked list implementation\n",
    "%run linked_lists.ipynb\n"
   ]
  },
  {
   "cell_type": "code",
   "execution_count": 40,
   "metadata": {},
   "outputs": [
    {
     "name": "stdout",
     "output_type": "stream",
     "text": "(5) =>(6) =>(7) =>(5) =>(8) =>(9) =>(6) =>(6) =>\n(5) =>(6) =>(7) =>(8) =>(9) =>\n"
    }
   ],
   "source": [
    "# 2.1\n",
    "# Remove Dups! Write code to remove duplicates from an unsorted linked list.\n",
    "def RemoveDups(data):\n",
    "    data = data.head\n",
    "    list_data = {}\n",
    "    list_data[data.data] = True\n",
    "\n",
    "    while data.next:\n",
    "        if data.next.data not in list_data:\n",
    "            list_data[data.next.data] = True\n",
    "            data = data.next\n",
    "        else:\n",
    "            data.next = data.next.next\n",
    "\n",
    "test_list = LinkedList()\n",
    "test_list.insert(5)\n",
    "test_list.insert(6)\n",
    "test_list.insert(7)\n",
    "test_list.insert(5)\n",
    "test_list.insert(8)\n",
    "test_list.insert(9)\n",
    "test_list.insert(6)\n",
    "test_list.insert(6)\n",
    "\n",
    "test_list.print()\n",
    "RemoveDups(test_list)\n",
    "test_list.print()"
   ]
  },
  {
   "cell_type": "code",
   "execution_count": 41,
   "metadata": {},
   "outputs": [
    {
     "name": "stdout",
     "output_type": "stream",
     "text": "(5) =>(6) =>(7) =>(5) =>(8) =>(9) =>(6) =>(6) =>\n6\n6\n9\n8\n"
    }
   ],
   "source": [
    "# 2.2\n",
    "\n",
    "def GetKthToLastElement(linked_list, k):\n",
    "    list_data = []\n",
    "    node = linked_list.head\n",
    "\n",
    "    while node:\n",
    "        list_data.append(node.data)\n",
    "        node = node.next\n",
    "    return list_data[-1 - k]\n",
    "\n",
    "test_list = LinkedList()\n",
    "test_list.insert(5)\n",
    "test_list.insert(6)\n",
    "test_list.insert(7)\n",
    "test_list.insert(5)\n",
    "test_list.insert(8)\n",
    "test_list.insert(9)\n",
    "test_list.insert(6)\n",
    "test_list.insert(6)\n",
    "\n",
    "test_list.print()\n",
    "print(GetKthToLastElement(test_list, 0))\n",
    "print(GetKthToLastElement(test_list, 1))\n",
    "print(GetKthToLastElement(test_list, 2))\n",
    "print(GetKthToLastElement(test_list, 3))"
   ]
  },
  {
   "cell_type": "code",
   "execution_count": 42,
   "metadata": {},
   "outputs": [
    {
     "name": "stdout",
     "output_type": "stream",
     "text": "(5) =>(6) =>(7) =>(5) =>(8) =>(9) =>(10) =>(11) =>\n(5) =>(6) =>(7) =>(5) =>(9) =>(10) =>(11) =>\n(5) =>(6) =>(7) =>(9) =>(10) =>(11) =>\n(5) =>(6) =>(7) =>(10) =>(11) =>\n(5) =>(6) =>(10) =>(11) =>\n(5) =>(6) =>(11) =>\n(5) =>(11) =>\n"
    }
   ],
   "source": [
    "# 2.3\n",
    "\n",
    "def DeleteMiddleNode(linked_list):\n",
    "    node_1 = linked_list.head\n",
    "    node_2 = linked_list.head\n",
    "    while True:\n",
    "        if not node_2.next.next or not node_2.next.next.next:\n",
    "            node_1.next = node_1.next.next\n",
    "            break\n",
    "        node_1 = node_1.next\n",
    "        node_2 = node_2.next.next\n",
    "\n",
    "test_list = LinkedList()\n",
    "test_list.insert(5)\n",
    "test_list.insert(6)\n",
    "test_list.insert(7)\n",
    "test_list.insert(5)\n",
    "test_list.insert(8)\n",
    "test_list.insert(9)\n",
    "test_list.insert(10)\n",
    "test_list.insert(11)\n",
    "\n",
    "test_list.print()\n",
    "DeleteMiddleNode(test_list)\n",
    "test_list.print()\n",
    "DeleteMiddleNode(test_list)\n",
    "test_list.print()\n",
    "DeleteMiddleNode(test_list)\n",
    "test_list.print()\n",
    "DeleteMiddleNode(test_list)\n",
    "test_list.print()\n",
    "DeleteMiddleNode(test_list)\n",
    "test_list.print()\n",
    "DeleteMiddleNode(test_list)\n",
    "test_list.print()\n",
    "    "
   ]
  },
  {
   "cell_type": "code",
   "execution_count": 43,
   "metadata": {},
   "outputs": [
    {
     "name": "stdout",
     "output_type": "stream",
     "text": "(7) =>(3) =>(8) =>(9) =>(1) =>(5) =>(5) =>(4) =>\n(3) =>(1) =>(5) =>(5) =>(4) =>(7) =>(8) =>(9) =>\n"
    }
   ],
   "source": [
    "# 2.4\n",
    "\n",
    "def PartitionLinked(linked_list, value):\n",
    "    l1 = None\n",
    "    l2 = None\n",
    "    head_l1 = None\n",
    "    head_l2 = None\n",
    "\n",
    "    head = linked_list.head\n",
    "    while head:\n",
    "        if head.data < value:\n",
    "            if l1:\n",
    "                l1.next = head\n",
    "            else:\n",
    "                head_l1 = head\n",
    "            l1 = head\n",
    "        else:\n",
    "            if l2:\n",
    "                l2.next = head\n",
    "            else:\n",
    "                head_l2 = head\n",
    "            l2 = head\n",
    "        head = head.next\n",
    "    linked_list.head = head_l1\n",
    "    l1.next = head_l2\n",
    "    l2.next = None\n",
    "\n",
    "\n",
    "test_list = LinkedList()\n",
    "test_list.insert(7)\n",
    "test_list.insert(3)\n",
    "test_list.insert(8)\n",
    "test_list.insert(9)\n",
    "test_list.insert(1)\n",
    "test_list.insert(5)\n",
    "test_list.insert(5)\n",
    "test_list.insert(4)\n",
    "\n",
    "test_list.print()\n",
    "PartitionLinked(test_list, 6)\n",
    "test_list.print()\n"
   ]
  },
  {
   "cell_type": "code",
   "execution_count": 44,
   "metadata": {},
   "outputs": [
    {
     "name": "stdout",
     "output_type": "stream",
     "text": "(7) =>(1) =>(6) =>\n(5) =>(9) =>(2) =>\n(2) =>(1) =>(9) =>\n(6) =>(1) =>(7) =>\n(2) =>(9) =>(5) =>\n(9) =>(1) =>(2) =>\n"
    }
   ],
   "source": [
    "# 2.5\n",
    "\n",
    "def AddLinkedLists(linked_list1, linked_list2):\n",
    "    nb_1 = 0\n",
    "    nb_2 = 0\n",
    "    res = 0\n",
    "\n",
    "    node_1 = linked_list1.head\n",
    "    k = 0\n",
    "    while node_1:\n",
    "        nb_1 += node_1.data * 10 ** k\n",
    "        k += 1\n",
    "        node_1 = node_1.next\n",
    "\n",
    "    node_2 = linked_list2.head\n",
    "    k = 0\n",
    "    while node_2:\n",
    "        nb_2 += node_2.data * 10 ** k\n",
    "        k += 1\n",
    "        node_2 = node_2.next\n",
    "\n",
    "    res = nb_1 + nb_2\n",
    "\n",
    "    output_linked_list = LinkedList()\n",
    "    while res > 0:\n",
    "        output_linked_list.insert(res % 10)\n",
    "        res = res // 10\n",
    "    \n",
    "    return output_linked_list\n",
    "\n",
    "def AddLinkedListsInverse(linked_list1, linked_list2):\n",
    "    nb_1 = 0\n",
    "    nb_2 = 0\n",
    "    res = 0\n",
    "\n",
    "    node_1 = linked_list1.head\n",
    "    while node_1:\n",
    "        nb_1 *= 10\n",
    "        nb_1+= node_1.data\n",
    "        node_1 = node_1.next\n",
    "\n",
    "    node_2 = linked_list2.head\n",
    "    while node_2:\n",
    "        nb_2 *= 10\n",
    "        nb_2 += node_2.data\n",
    "        node_2 = node_2.next\n",
    "\n",
    "    res = nb_1 + nb_2\n",
    "\n",
    "    output_linked_list = LinkedList()\n",
    "    while res > 0:\n",
    "        head_output = output_linked_list.head\n",
    "        new_node = Node(res % 10)\n",
    "        new_node.next = head_output\n",
    "        output_linked_list.head = new_node\n",
    "        res = res // 10\n",
    "    \n",
    "    return output_linked_list\n",
    "\n",
    "list1 = LinkedList()\n",
    "list1.insert(7)\n",
    "list1.insert(1)\n",
    "list1.insert(6)\n",
    "\n",
    "list2 = LinkedList()\n",
    "list2.insert(5)\n",
    "list2.insert(9)\n",
    "list2.insert(2)\n",
    "\n",
    "list1.print()\n",
    "list2.print()\n",
    "\n",
    "res = AddLinkedLists(list1, list2)\n",
    "res.print()\n",
    "\n",
    "list1 = LinkedList()\n",
    "list1.insert(6)\n",
    "list1.insert(1)\n",
    "list1.insert(7)\n",
    "\n",
    "list2 = LinkedList()\n",
    "list2.insert(2)\n",
    "list2.insert(9)\n",
    "list2.insert(5)\n",
    "\n",
    "\n",
    "list1.print()\n",
    "list2.print()\n",
    "res = AddLinkedListsInverse(list1, list2)\n",
    "res.print()"
   ]
  },
  {
   "cell_type": "code",
   "execution_count": 45,
   "metadata": {},
   "outputs": [
    {
     "name": "stdout",
     "output_type": "stream",
     "text": "(1) =>(2) =>(3) =>(2) =>(2) =>(1) =>\nFalse\n"
    }
   ],
   "source": [
    "# 2.6\n",
    "def IsPalyndrome(linked_list):\n",
    "    l1 = []\n",
    "    l2 = []\n",
    "    head = linked_list.head\n",
    "\n",
    "    while head:\n",
    "        l1.append(head.data)\n",
    "        l2.insert(0, head.data)\n",
    "\n",
    "        head = head.next\n",
    "    \n",
    "    return l1==l2\n",
    "\n",
    "test_list = LinkedList()\n",
    "test_list.insert(1)\n",
    "test_list.insert(2)\n",
    "test_list.insert(3)\n",
    "test_list.insert(2)\n",
    "test_list.insert(2)\n",
    "test_list.insert(1)\n",
    "\n",
    "test_list.print()\n",
    "print(IsPalyndrome(test_list))"
   ]
  },
  {
   "cell_type": "code",
   "execution_count": 46,
   "metadata": {},
   "outputs": [],
   "source": [
    "# 2.7\n",
    "# Already done but lost it somehow"
   ]
  },
  {
   "cell_type": "code",
   "execution_count": 47,
   "metadata": {},
   "outputs": [
    {
     "name": "stdout",
     "output_type": "stream",
     "text": "C\n"
    },
    {
     "ename": "KeyboardInterrupt",
     "evalue": "",
     "output_type": "error",
     "traceback": [
      "\u001b[0;31m---------------------------------------------------------------------------\u001b[0m",
      "\u001b[0;31mKeyboardInterrupt\u001b[0m                         Traceback (most recent call last)",
      "Input \u001b[0;32mIn [47]\u001b[0m, in \u001b[0;36m<cell line: 25>\u001b[0;34m()\u001b[0m\n\u001b[1;32m     23\u001b[0m head\u001b[38;5;241m.\u001b[39mnext \u001b[38;5;241m=\u001b[39m node\n\u001b[1;32m     24\u001b[0m \u001b[38;5;28mprint\u001b[39m(LoopDetection(test_list)\u001b[38;5;241m.\u001b[39mdata)\n\u001b[0;32m---> 25\u001b[0m \u001b[43mtest_list\u001b[49m\u001b[38;5;241;43m.\u001b[39;49m\u001b[43mprint\u001b[49m\u001b[43m(\u001b[49m\u001b[43m)\u001b[49m\n",
      "File \u001b[0;32m/var/folders/2h/x4kdb40n4q1f5fnkyp5gxhjm00nvth/T/ipykernel_87476/687674106.py:39\u001b[0m, in \u001b[0;36mLinkedList.print\u001b[0;34m(self)\u001b[0m\n\u001b[1;32m     37\u001b[0m current_node \u001b[38;5;241m=\u001b[39m \u001b[38;5;28mself\u001b[39m\u001b[38;5;241m.\u001b[39mhead\n\u001b[1;32m     38\u001b[0m \u001b[38;5;28;01mwhile\u001b[39;00m current_node:\n\u001b[0;32m---> 39\u001b[0m     output \u001b[38;5;241m+\u001b[39m\u001b[38;5;241m=\u001b[39m \u001b[38;5;124;43m\"\u001b[39;49m\u001b[38;5;124;43m(\u001b[39;49m\u001b[38;5;124;43m\"\u001b[39;49m\u001b[38;5;241;43m+\u001b[39;49m\u001b[38;5;28;43mstr\u001b[39;49m\u001b[43m(\u001b[49m\u001b[43mcurrent_node\u001b[49m\u001b[38;5;241;43m.\u001b[39;49m\u001b[43mdata\u001b[49m\u001b[43m)\u001b[49m\u001b[38;5;241m+\u001b[39m\u001b[38;5;124m\"\u001b[39m\u001b[38;5;124m) =>\u001b[39m\u001b[38;5;124m\"\u001b[39m\n\u001b[1;32m     40\u001b[0m     current_node \u001b[38;5;241m=\u001b[39m current_node\u001b[38;5;241m.\u001b[39mnext\n\u001b[1;32m     41\u001b[0m \u001b[38;5;28mprint\u001b[39m(output)\n",
      "\u001b[0;31mKeyboardInterrupt\u001b[0m: "
     ]
    }
   ],
   "source": [
    "# 2.8\n",
    "def LoopDetection(linked_list):\n",
    "    head = linked_list.head\n",
    "    dict_nodes = {}\n",
    "    while True:\n",
    "        if head in dict_nodes.keys():\n",
    "            return head\n",
    "        dict_nodes[head] = True\n",
    "        head = head.next\n",
    "\n",
    "test_list = LinkedList()\n",
    "test_list.insert('A')\n",
    "test_list.insert(8)\n",
    "node = Node('C')\n",
    "head = test_list.head\n",
    "while head.next:\n",
    "    head = head.next\n",
    "head.next = node\n",
    "test_list.insert('D')\n",
    "test_list.insert('E')\n",
    "while head.next:\n",
    "    head = head.next\n",
    "head.next = node\n",
    "print(LoopDetection(test_list).data)\n",
    "test_list.print()"
   ]
  }
 ],
 "metadata": {
  "interpreter": {
   "hash": "31f2aee4e71d21fbe5cf8b01ff0e069b9275f58929596ceb00d14d90e3e16cd6"
  },
  "kernelspec": {
   "display_name": "Python 3.8.5 64-bit",
   "language": "python",
   "name": "python38564bit40f713908f6440e19f878acec12028fe"
  },
  "language_info": {
   "name": "python",
   "version": "3.8.5-final"
  },
  "orig_nbformat": 4
 },
 "nbformat": 4,
 "nbformat_minor": 2
}