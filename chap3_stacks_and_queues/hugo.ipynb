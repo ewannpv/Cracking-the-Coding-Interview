{
 "nbformat": 4,
 "nbformat_minor": 2,
 "metadata": {
  "language_info": {
   "name": "python",
   "codemirror_mode": {
    "name": "ipython",
    "version": 3
   },
   "version": "3.8.5-final"
  },
  "orig_nbformat": 2,
  "file_extension": ".py",
  "mimetype": "text/x-python",
  "name": "python",
  "npconvert_exporter": "python",
  "pygments_lexer": "ipython3",
  "version": 3,
  "kernelspec": {
   "name": "python38564bit40f713908f6440e19f878acec12028fe",
   "display_name": "Python 3.8.5 64-bit"
  }
 },
 "cells": [
  {
   "cell_type": "code",
   "execution_count": 4,
   "metadata": {},
   "outputs": [
    {
     "name": "stdout",
     "output_type": "stream",
     "text": "(0) <==(2) <==(3) <==(4) <==(5) <==(6) <==(7) <==(8) <==\n(0) ==>(1) ==>(2) ==>(3) ==>(4) ==>(5) ==>(6) ==>(7) ==>\n"
    }
   ],
   "source": [
    "# Import Stack and Queueimplementations.\n",
    "%run stack.ipynb\n",
    "%run queue.ipynb\n",
    "\n",
    "stack = Stack([1, 2, 3, 4, 5, 6, 7, 8])\n",
    "stack.pop()\n",
    "stack.push(0)\n",
    "stack.print()\n",
    "\n",
    "queue = Queue([1, 2, 3, 4, 5, 6, 7, 8])\n",
    "queue.remove()\n",
    "queue.add(0)\n",
    "queue.print()"
   ]
  },
  {
   "cell_type": "code",
   "execution_count": 5,
   "metadata": {},
   "outputs": [],
   "source": [
    "# 3.2\n",
    "# have the min of everything beneath at each node"
   ]
  },
  {
   "cell_type": "code",
   "execution_count": 6,
   "metadata": {},
   "outputs": [],
   "source": [
    "# 3.4"
   ]
  }
 ]
}