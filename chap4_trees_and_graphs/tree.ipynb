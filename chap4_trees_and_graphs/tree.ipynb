{
 "cells": [
  {
   "cell_type": "markdown",
   "metadata": {},
   "source": [
    "# Tree\n",
    "\n",
    "A nice way to understand a tree is with a recursive explanation. A tree is a data structure composed of\n",
    "nodes. "
   ]
  },
  {
   "cell_type": "code",
   "execution_count": 7,
   "metadata": {},
   "outputs": [],
   "source": [
    "\n",
    "\n",
    "class TNode:\n",
    "    def __init__(self, data = None, children = []):\n",
    "        self.data = data\n",
    "        self.children = children\n",
    "\n",
    "class Tree:\n",
    "    def __init__(self, data = None):\n",
    "        self.root = TNode(data)\n",
    "\n",
    "class BinaryNode:\n",
    "    def __init__(self, data = None, left = None, Right = None):\n",
    "        self.data = data\n",
    "        self.left = left\n",
    "        self.right = Right     \n",
    "\n",
    "    def print(self):\n",
    "        print('data: ' +self.data + ' left: '+ self.left + ' right: '+self.right)       \n",
    "\n",
    "class BinaryTree:\n",
    "    def __init__(self, data = None):\n",
    "        if data:\n",
    "            self.root = BinaryNode(data)\n",
    "        else:\n",
    "            self.root = None\n",
    "\n",
    "        \n",
    "    def _print(self,node, level = 0):\n",
    "        if node != None:\n",
    "            self._print(node.left, level + 1)\n",
    "            print(' ' * 4 * level + '-> ' + str(node.data))\n",
    "            self._print(node.right, level + 1)\n",
    "\n",
    "    def print(self):\n",
    "        self._print(self.root)\n",
    "\n",
    "\n"
   ]
  }
 ],
 "metadata": {
  "interpreter": {
   "hash": "31f2aee4e71d21fbe5cf8b01ff0e069b9275f58929596ceb00d14d90e3e16cd6"
  },
  "kernelspec": {
   "display_name": "Python 3.8.9 64-bit",
   "language": "python",
   "name": "python3"
  },
  "language_info": {
   "codemirror_mode": {
    "name": "ipython",
    "version": 3
   },
   "file_extension": ".py",
   "mimetype": "text/x-python",
   "name": "python",
   "nbconvert_exporter": "python",
   "pygments_lexer": "ipython3",
   "version": "3.8.9"
  },
  "orig_nbformat": 4
 },
 "nbformat": 4,
 "nbformat_minor": 2
}
