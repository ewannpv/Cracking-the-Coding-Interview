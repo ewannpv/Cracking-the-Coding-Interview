{
 "cells": [
  {
   "cell_type": "markdown",
   "metadata": {},
   "source": [
    "# Chap 3 - Ewann"
   ]
  },
  {
   "cell_type": "code",
   "execution_count": 45,
   "metadata": {},
   "outputs": [],
   "source": [
    "# Import Tree and Graph Queueimplementations.\n",
    "%run tree.ipynb\n",
    "%run graph.ipynb\n",
    "\n",
    "\n"
   ]
  },
  {
   "cell_type": "code",
   "execution_count": 7,
   "metadata": {},
   "outputs": [
    {
     "name": "stdout",
     "output_type": "stream",
     "text": [
      "False\n"
     ]
    }
   ],
   "source": [
    "# 4.1\n",
    "# Route Between Nodes: Given a directed graph, design an algorithm to find out whether there is a\n",
    "# route between two nodes. \n",
    "\n",
    "def DirectedGraph(node1, node2, dict_nodes = {}):\n",
    "    if node1 == None or node2 == None:\n",
    "        return False\n",
    "    if node1 == node2:\n",
    "        return True\n",
    "    dict_nodes[node1] = True\n",
    "    for child in node1.children:\n",
    "        if not child in dict_nodes.keys():\n",
    "            if DirectedGraph(child,node2, dict_nodes):\n",
    "                return True\n",
    "    return False\n",
    "\n",
    "node1 = GNode(1)\n",
    "node2 = GNode(2, [node1])\n",
    "node3 = GNode(3, [node1])\n",
    "node4 = GNode(4, [node2])\n",
    "node5 = GNode(5, [node3, node4])\n",
    "node6 = GNode(6, [node5])\n",
    "node7 = GNode(7, [node1])\n",
    "\n",
    "print(DirectedGraph(node6, node1))"
   ]
  },
  {
   "cell_type": "code",
   "execution_count": 72,
   "metadata": {},
   "outputs": [
    {
     "name": "stdout",
     "output_type": "stream",
     "text": [
      "        -> 1\n",
      "    -> 2\n",
      "        -> 3\n",
      "            -> 4\n",
      "-> 5\n",
      "        -> 6\n",
      "            -> 7\n",
      "    -> 8\n",
      "        -> 9\n",
      "            -> 10\n"
     ]
    }
   ],
   "source": [
    "import math\n",
    "# 4.2\n",
    "# Minimal Tree: Given a sorted (increasing order) array with unique integer elements,\n",
    "# write an algorithm to create a binary search tree with minimal height. \n",
    "\n",
    "def TreeInsert(tree, data):\n",
    "    if tree.root == None:\n",
    "        tree.root = BinaryNode(data)\n",
    "        return \n",
    "\n",
    "    current_node = tree.root\n",
    "    while current_node:\n",
    "        if data > current_node.data:\n",
    "            if current_node.right:\n",
    "                current_node = current_node.right\n",
    "            else:\n",
    "                current_node.right = BinaryNode(data)\n",
    "                break\n",
    "        else:\n",
    "            if current_node.left:\n",
    "                current_node = current_node.left\n",
    "            else:\n",
    "                current_node.left = BinaryNode(data)\n",
    "                break\n",
    "    return tree\n",
    "\n",
    "def MinimalTreeFromList(list):\n",
    "    tree = BinaryTree()\n",
    "    _MinimalTreeFromList(tree, list, 0,len(list) -1)\n",
    "    return tree\n",
    "\n",
    "\n",
    "def _MinimalTreeFromList(tree, list, start, end):\n",
    "    if start > end:\n",
    "        return\n",
    "    index = start + math.floor((end-start) / 2)\n",
    "    # print(str(start) + ' ' + str(index) + ' '+ str(end))\n",
    "\n",
    "    TreeInsert(tree, list[index])\n",
    "    _MinimalTreeFromList(tree,list, start, index - 1)\n",
    "    _MinimalTreeFromList(tree,list, index + 1, end)\n",
    "\n",
    "\n",
    "\n",
    "list1 = [1,2,3,4,5,6,7,8,9,10]\n",
    "tree  = MinimalTreeFromList(list1)\n",
    "tree.print()\n"
   ]
  },
  {
   "cell_type": "code",
   "execution_count": 76,
   "metadata": {},
   "outputs": [
    {
     "name": "stdout",
     "output_type": "stream",
     "text": [
      "[1, 3, 6, 9]\n"
     ]
    }
   ],
   "source": [
    "# 4.3 \n",
    "# List of Depths: Given a binary tree, design an algorithm which creates a linked list of all the nodes\n",
    "# at each depth (e.g., if you have a tree with depth D, you'll have D linked lists).\n",
    "\n",
    "def ListOfDepths(tree, target_level):\n",
    "    depth_list = []\n",
    "    _ListOfDepths(tree.root, 0, target_level, depth_list)\n",
    "    return depth_list\n",
    "\n",
    "def _ListOfDepths(node, level, target_level, depth_list):\n",
    "    if node == None:\n",
    "        return None\n",
    "    if level == target_level:\n",
    "        depth_list.append(node.data)\n",
    "        return\n",
    "    _ListOfDepths(node.left, level +1, target_level, depth_list)\n",
    "    _ListOfDepths(node.right, level +1, target_level, depth_list)\n",
    "\n",
    "tree  = MinimalTreeFromList(list1)\n",
    "print(ListOfDepths(tree,2))"
   ]
  },
  {
   "cell_type": "code",
   "execution_count": 97,
   "metadata": {},
   "outputs": [
    {
     "name": "stdout",
     "output_type": "stream",
     "text": [
      "0 0\n",
      "0 0\n",
      "0 1\n",
      "1 2\n",
      "0 0\n",
      "0 1\n",
      "0 0\n",
      "1 0\n",
      "2 0\n",
      "0 0\n",
      "1 0\n",
      "2 0\n",
      "0 0\n",
      "1 0\n",
      "2 0\n",
      "False\n",
      "        -> 1\n",
      "    -> 2\n",
      "        -> 3\n",
      "            -> 4\n",
      "-> 5\n",
      "        -> 6\n",
      "            -> 7\n",
      "    -> 8\n",
      "        -> 9\n",
      "            -> 10\n",
      "                                                -> 12\n",
      "                                            -> 12\n",
      "                                        -> 12\n",
      "                                    -> 12\n",
      "                                -> 12\n",
      "                            -> 12\n",
      "                        -> 12\n",
      "                    -> 12\n",
      "                -> 12\n",
      "                                                    -> 14\n",
      "                                                -> 14\n",
      "                                            -> 14\n",
      "                                        -> 14\n",
      "                                    -> 14\n",
      "                                -> 14\n",
      "                            -> 14\n",
      "                        -> 14\n",
      "                    -> 14\n",
      "                                                        -> 15\n",
      "                                                    -> 15\n",
      "                                                -> 15\n",
      "                                            -> 15\n",
      "                                        -> 15\n",
      "                                    -> 15\n",
      "                                -> 15\n",
      "                            -> 15\n",
      "                        -> 15\n",
      "0 0\n",
      "0 0\n",
      "0 1\n",
      "1 2\n",
      "0 0\n",
      "0 1\n",
      "0 0\n",
      "1 0\n",
      "2 0\n",
      "0 0\n",
      "1 0\n",
      "2 0\n",
      "0 0\n",
      "1 0\n",
      "2 0\n",
      "False\n"
     ]
    }
   ],
   "source": [
    "# 4.4 \n",
    "# Implement a function to check if a binary tree is balanced. For the purposes of\n",
    "# this question, a balanced tree is defined to be a tree such that the heights of the two subtrees of any\n",
    "# node never differ by more than one. \n",
    "\n",
    "def CheckBalenced(tree):\n",
    "    # print(_CheckBalenced(tree.root))\n",
    "    return _CheckBalenced(tree.root) > 0\n",
    "\n",
    "def _CheckBalenced(node):\n",
    "    if node ==  None:\n",
    "        return 0\n",
    "    left =  _CheckBalenced(node.left)\n",
    "    right =  _CheckBalenced(node.right)\n",
    "\n",
    "    if left < 0 or right <0:\n",
    "       return -1\n",
    "    print(left,right, node.data)\n",
    "    if abs(left - right) > 1:\n",
    "        return -1\n",
    "    return max(left, right) + 1\n",
    "\n",
    "print(CheckBalenced(tree))\n",
    "tree.print()\n",
    "TreeInsert(tree,12)\n",
    "TreeInsert(tree,14)\n",
    "TreeInsert(tree,15)\n",
    "# tree.print()\n",
    "print(CheckBalenced(tree))"
   ]
  }
 ],
 "metadata": {
  "interpreter": {
   "hash": "31f2aee4e71d21fbe5cf8b01ff0e069b9275f58929596ceb00d14d90e3e16cd6"
  },
  "kernelspec": {
   "display_name": "Python 3.8.9 64-bit",
   "language": "python",
   "name": "python3"
  },
  "language_info": {
   "codemirror_mode": {
    "name": "ipython",
    "version": 3
   },
   "file_extension": ".py",
   "mimetype": "text/x-python",
   "name": "python",
   "nbconvert_exporter": "python",
   "pygments_lexer": "ipython3",
   "version": "3.8.9"
  },
  "orig_nbformat": 4
 },
 "nbformat": 4,
 "nbformat_minor": 2
}
