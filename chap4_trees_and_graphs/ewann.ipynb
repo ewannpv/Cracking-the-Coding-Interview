{
 "cells": [
  {
   "cell_type": "markdown",
   "metadata": {},
   "source": [
    "# Chap 3 - Ewann"
   ]
  },
  {
   "cell_type": "code",
   "execution_count": 4,
   "metadata": {},
   "outputs": [],
   "source": [
    "# Import Tree and Graph Queueimplementations.\n",
    "%run tree.ipynb\n",
    "%run graph.ipynb\n",
    "\n",
    "\n"
   ]
  },
  {
   "cell_type": "code",
   "execution_count": 102,
   "metadata": {},
   "outputs": [
    {
     "name": "stdout",
     "output_type": "stream",
     "text": [
      "True\n"
     ]
    }
   ],
   "source": [
    "# 4.1\n",
    "# Route Between Nodes: Given a directed graph, design an algorithm to find out whether there is a\n",
    "# route between two nodes. \n",
    "\n",
    "def DirectedGraph(node1, node2, dict_nodes = {}):\n",
    "    if node1 == None or node2 == None:\n",
    "        return False\n",
    "    if node1 == node2:\n",
    "        return True\n",
    "    dict_nodes[node1] = True\n",
    "    for child in node1.children:\n",
    "        if not child in dict_nodes.keys():\n",
    "            if DirectedGraph(child,node2, dict_nodes):\n",
    "                return True\n",
    "    return False\n",
    "\n",
    "node1 = GNode(1)\n",
    "node2 = GNode(2, [node1])\n",
    "node3 = GNode(3, [node1])\n",
    "node4 = GNode(4, [node2])\n",
    "node5 = GNode(5, [node3, node4])\n",
    "node6 = GNode(6, [node5])\n",
    "node7 = GNode(7, [node1])\n",
    "\n",
    "print(DirectedGraph(node6, node1))"
   ]
  },
  {
   "cell_type": "code",
   "execution_count": 103,
   "metadata": {},
   "outputs": [
    {
     "name": "stdout",
     "output_type": "stream",
     "text": [
      "        -> 1\n",
      "    -> 2\n",
      "        -> 3\n",
      "            -> 4\n",
      "-> 5\n",
      "        -> 6\n",
      "            -> 7\n",
      "    -> 8\n",
      "        -> 9\n",
      "            -> 10\n"
     ]
    }
   ],
   "source": [
    "import math\n",
    "# 4.2\n",
    "# Minimal Tree: Given a sorted (increasing order) array with unique integer elements,\n",
    "# write an algorithm to create a binary search tree with minimal height. \n",
    "\n",
    "def TreeInsert(tree, data):\n",
    "    if tree.root == None:\n",
    "        tree.root = BinaryNode(data)\n",
    "        return \n",
    "\n",
    "    current_node = tree.root\n",
    "    while current_node:\n",
    "        if data > current_node.data:\n",
    "            if current_node.right:\n",
    "                current_node = current_node.right\n",
    "            else:\n",
    "                current_node.right = BinaryNode(data)\n",
    "                break\n",
    "        else:\n",
    "            if current_node.left:\n",
    "                current_node = current_node.left\n",
    "            else:\n",
    "                current_node.left = BinaryNode(data)\n",
    "                break\n",
    "    return tree\n",
    "\n",
    "def MinimalTreeFromList(list):\n",
    "    tree = BinaryTree()\n",
    "    _MinimalTreeFromList(tree, list, 0,len(list) -1)\n",
    "    return tree\n",
    "\n",
    "\n",
    "def _MinimalTreeFromList(tree, list, start, end):\n",
    "    if start > end:\n",
    "        return\n",
    "    index = start + math.floor((end-start) / 2)\n",
    "    # print(str(start) + ' ' + str(index) + ' '+ str(end))\n",
    "\n",
    "    TreeInsert(tree, list[index])\n",
    "    _MinimalTreeFromList(tree,list, start, index - 1)\n",
    "    _MinimalTreeFromList(tree,list, index + 1, end)\n",
    "\n",
    "\n",
    "\n",
    "list1 = [1,2,3,4,5,6,7,8,9,10]\n",
    "tree  = MinimalTreeFromList(list1)\n",
    "tree.print()\n"
   ]
  },
  {
   "cell_type": "code",
   "execution_count": 104,
   "metadata": {},
   "outputs": [
    {
     "name": "stdout",
     "output_type": "stream",
     "text": [
      "[1, 3, 6, 9]\n"
     ]
    }
   ],
   "source": [
    "# 4.3 \n",
    "# List of Depths: Given a binary tree, design an algorithm which creates a linked list of all the nodes\n",
    "# at each depth (e.g., if you have a tree with depth D, you'll have D linked lists).\n",
    "\n",
    "def ListOfDepths(tree, target_level):\n",
    "    depth_list = []\n",
    "    _ListOfDepths(tree.root, 0, target_level, depth_list)\n",
    "    return depth_list\n",
    "\n",
    "def _ListOfDepths(node, level, target_level, depth_list):\n",
    "    if node == None:\n",
    "        return None\n",
    "    if level == target_level:\n",
    "        depth_list.append(node.data)\n",
    "        return\n",
    "    _ListOfDepths(node.left, level +1, target_level, depth_list)\n",
    "    _ListOfDepths(node.right, level +1, target_level, depth_list)\n",
    "\n",
    "tree  = MinimalTreeFromList(list1)\n",
    "print(ListOfDepths(tree,2))"
   ]
  },
  {
   "cell_type": "code",
   "execution_count": 105,
   "metadata": {},
   "outputs": [
    {
     "name": "stdout",
     "output_type": "stream",
     "text": [
      "True\n",
      "False\n"
     ]
    }
   ],
   "source": [
    "# 4.4 \n",
    "# Implement a function to check if a binary tree is balanced. For the purposes of\n",
    "# this question, a balanced tree is defined to be a tree such that the heights of the two subtrees of any\n",
    "# node never differ by more than one. \n",
    "\n",
    "def CheckBalenced(tree):\n",
    "    return _CheckBalenced(tree.root) > 0\n",
    "\n",
    "def _CheckBalenced(node):\n",
    "    if node ==  None:\n",
    "        return 0\n",
    "    left =  _CheckBalenced(node.left)\n",
    "    right =  _CheckBalenced(node.right)\n",
    "\n",
    "    if left < 0 or right <0:\n",
    "       return -1\n",
    "    if abs(left - right) > 1:\n",
    "        return -1\n",
    "    return max(left, right) + 1\n",
    "\n",
    "tree  = MinimalTreeFromList(list1)\n",
    "print(CheckBalenced(tree))\n",
    "\n",
    "TreeInsert(tree,12)\n",
    "TreeInsert(tree,14)\n",
    "TreeInsert(tree,15)\n",
    "print(CheckBalenced(tree))"
   ]
  },
  {
   "cell_type": "code",
   "execution_count": 115,
   "metadata": {},
   "outputs": [
    {
     "name": "stdout",
     "output_type": "stream",
     "text": [
      "-> 11\n",
      "            -> 1\n",
      "        -> 2\n",
      "            -> 3\n",
      "                -> 4\n",
      "    -> 5\n",
      "            -> 6\n",
      "                -> 7\n",
      "        -> 8\n",
      "            -> 9\n",
      "                -> 10\n",
      "True\n"
     ]
    }
   ],
   "source": [
    "# 4.5\n",
    "# Validate BST: Implement a function to check if a binary tree is a binary search tree. \n",
    "\n",
    "def ValidateBST(tree):\n",
    "    return _ValidateBST(tree.root)\n",
    "\n",
    "def _ValidateBST(current, previous = None):\n",
    "    if not current:\n",
    "        return True\n",
    "    if not _ValidateBST(current.left, previous):\n",
    "        return False\n",
    "    if previous and previous > current.data:\n",
    "        return False\n",
    "    if not _ValidateBST(current.left, current.data):\n",
    "        return False\n",
    "    return True\n",
    "\n",
    "\n",
    "list1 = [1,2,3,4,5,6,7,8,9,10]\n",
    "tree  = MinimalTreeFromList(list1)\n",
    "node = BinaryNode(11)\n",
    "node.right = tree.root\n",
    "tree.root = node\n",
    "tree.print()\n",
    "print(ValidateBST(tree))\n",
    "    "
   ]
  },
  {
   "cell_type": "code",
   "execution_count": null,
   "metadata": {},
   "outputs": [],
   "source": [
    "# 4.6 \n",
    "# Successor: Write an algorithm to find the \"next\" node (i.e., in-order successor) of a given node in a\n",
    "# binary search tree. You may assume that each node has a link to its parent. \n",
    "\n",
    "def FindSuccessor(node):\n",
    "    successor = _FindSuccessor(tree.root, node.value)\n",
    "    if not successor:\n",
    "        while node.parent:\n",
    "            if node.parent.value > node.value:\n",
    "                return node.parent\n",
    "            node.parent = node.parent.parent\n",
    "        return None\n",
    "    else:\n",
    "        return successor\n",
    "\n",
    "def _FindSuccessor(node, value):\n",
    "    if node.data > value and node.left:\n",
    "        return _FindSuccessor(node.left,value)\n",
    "    if node.data < value and node.right:\n",
    "        return _FindSuccessor(node.right,value)\n",
    "    if node.data > value:\n",
    "        return node\n",
    "    return None\n",
    "\n"
   ]
  },
  {
   "cell_type": "code",
   "execution_count": 2,
   "metadata": {},
   "outputs": [
    {
     "name": "stdout",
     "output_type": "stream",
     "text": [
      "['f', 'a', 'b', 'd', 'c', 'e']\n"
     ]
    }
   ],
   "source": [
    "\n",
    "# 4.7\n",
    "# Build Order: You are given a list of projects and a list of dependencies (which is a list of pairs of\n",
    "# projects, where the second project is dependent on the first project). All of a project's dependencies\n",
    "# must be built before the project is. Find a build order that will allow the projects to be built. If there\n",
    "# is no valid build order, return an error. \n",
    "\n",
    "def findBuildOrder(projects, dependencies):\n",
    "    graph = buildGrap(projects, dependencies)\n",
    "    queue = []\n",
    "    stack = projects\n",
    "\n",
    "    def visitProject(project):\n",
    "        if len(graph[project]['children']) == 0 and not graph[project]['visited']:\n",
    "            queue.append(project)\n",
    "            graph[project]['visited'] = True\n",
    "            for parent in graph[project]['parents']:\n",
    "                graph[parent]['children'].remove(project)\n",
    "                stack.append(parent)\n",
    "            graph[project]['parents'] = []\n",
    "    while len(stack):\n",
    "        project = stack.pop()\n",
    "        visitProject(project)\n",
    "    return queue\n",
    "\n",
    "\n",
    "\n",
    "def buildGrap(projects, dependencies):\n",
    "    graph = {}\n",
    "    for node in projects:\n",
    "        graph[node] = {'parents' :[], 'children':[], 'visited': False}\n",
    "\n",
    "    for node1, node2 in dependencies:\n",
    "        graph[node1]['parents'].append(node2)\n",
    "        graph[node2]['children'].append(node1)\n",
    "    return graph\n",
    "\n",
    "    \n",
    "projects = ['a','b','c','d','e','f']\n",
    "dependencies = [ ['a', 'd'], ['f', 'b'], ['b', 'd'], ['f', 'a'], ['d', 'c']] \n",
    "\n",
    "print(findBuildOrder(projects,dependencies))\n",
    "\n",
    "\n",
    "\n"
   ]
  },
  {
   "cell_type": "code",
   "execution_count": null,
   "metadata": {},
   "outputs": [],
   "source": [
    "# 4.8 First Common Ancestor: Design an algorithm and write code to find the first common ancestor\n",
    "# of two nodes in a binary tree. Avoid storing additional nodes in a data structure. NOTE: This is not\n",
    "# necessarily a binary search tree. \n",
    "\n",
    "\n",
    "\n"
   ]
  },
  {
   "cell_type": "code",
   "execution_count": 18,
   "metadata": {},
   "outputs": [
    {
     "name": "stdout",
     "output_type": "stream",
     "text": [
      "    -> 1\n",
      "-> 2\n",
      "    -> 3\n",
      "[2, 1, 3]\n",
      "[2, 3, 1]\n"
     ]
    }
   ],
   "source": [
    "# 4.9\n",
    "# BST Sequences: A binary search tree was created by traversing through an array from left to right\n",
    "# and inserting each element. Given a binary search tree with distinct elements, print all possible\n",
    "# arrays that could have led to this tree.\n",
    "\n",
    "def _BstSequences(list_nodes):\n",
    "    if len(list_nodes) == 0:\n",
    "        return [[]]\n",
    "    all_sequences = []\n",
    "    for i in range(len(list_nodes)):\n",
    "        next_list = list_nodes[:i] + list_nodes[i+1:]\n",
    "        if list_nodes[i].left:\n",
    "            next_list.append(list_nodes[i].left)\n",
    "        if list_nodes[i].right:\n",
    "            next_list.append(list_nodes[i].right)\n",
    "        current_sequences = _BstSequences(next_list)\n",
    "        for sequence in current_sequences:\n",
    "            all_sequences.append([list_nodes[i]] + sequence)\n",
    "    return all_sequences\n",
    "\n",
    "\n",
    "def BstSequences(tree):\n",
    "    return _BstSequences([tree.root])\n",
    "\n",
    "\n",
    "\n",
    "node1 = BinaryNode(1)\n",
    "node2 = BinaryNode(2)\n",
    "node3 = BinaryNode(3)\n",
    "\n",
    "node2.left = node1\n",
    "node2.right = node3\n",
    "\n",
    "tree = BinaryTree()\n",
    "tree.root = node2\n",
    "tree.print()\n",
    "\n",
    "for sequence in BstSequences(tree):\n",
    "    print([k.data for k in sequence])"
   ]
  },
  {
   "cell_type": "code",
   "execution_count": 20,
   "metadata": {},
   "outputs": [
    {
     "data": {
      "text/plain": [
       "True"
      ]
     },
     "execution_count": 20,
     "metadata": {},
     "output_type": "execute_result"
    }
   ],
   "source": [
    "# 4.10\n",
    "# Check Subtree: Tl and T2 are two very large binary trees, with Tl much bigger than T2. Create an\n",
    "# algorithm to determine if T2 is a subtree of Tl.\n",
    "# A tree T2 is a subtree of Tl if there exists a node n in Tl such that the subtree of n is identical to T2.\n",
    "# That is, if you cut off the tree at node n, the two trees would be identical. \n",
    "\n",
    "def isSubtree(t1,t2):\n",
    "    current_node = t1.root\n",
    "    t2_root = t2.root\n",
    "    while current_node:\n",
    "        if t2_root == current_node:\n",
    "            # we can also compare string representation\n",
    "            # t2_root.print() == current_node.print()\n",
    "            return True\n",
    "        elif current_node.data < t2_root.data:\n",
    "            current_node = current_node.right\n",
    "        elif current_node.data > t2_root.data:\n",
    "            current_node = current_node.left\n",
    "        else:\n",
    "            return False\n",
    "    return False\n",
    "\n",
    "\n",
    "\n",
    "node1 = BinaryNode(1)\n",
    "node2 = BinaryNode(2)\n",
    "node3 = BinaryNode(3)\n",
    "node4 = BinaryNode(4)\n",
    "\n",
    "node2.left = node1\n",
    "node2.right = node3\n",
    "node4.left = node2\n",
    "\n",
    "tree = BinaryTree()\n",
    "tree.root = node2\n",
    "\n",
    "tree2 = BinaryTree()\n",
    "tree2.root = node4\n",
    "\n",
    "isSubtree(tree2,tree)\n",
    "\n"
   ]
  },
  {
   "cell_type": "code",
   "execution_count": null,
   "metadata": {},
   "outputs": [],
   "source": [
    "# 4.11\n",
    "# Random Node: You are implementing a binary tree class from scratch which, in addition to\n",
    "# insert, find, and delete, has a method getRandomNode() which returns a random node\n",
    "# from the tree. All nodes should be equally likely to be chosen. Design and implement an algorithm\n",
    "# for getRandomNode, and explain how you would implement the rest of the methods. \n",
    "\n",
    "# If we know the size of the tree, we can just do a DFS an return the ith node.\n"
   ]
  },
  {
   "cell_type": "code",
   "execution_count": null,
   "metadata": {},
   "outputs": [],
   "source": [
    "# 4.12\n",
    "#  Paths with Sum: You are given a binary tree in which each node contains an integer value (which\n",
    "# might be positive or negative). Design an algorithm to count the number of paths that sum to a\n",
    "# given value. The path does not need to start or end at the root or a leaf, but it must go downwards\n",
    "# (traveling only from parent nodes to child nodes).\n",
    "\n",
    "# recursive approach and return 1 if leaf is equal to the given sum else 0"
   ]
  }
 ],
 "metadata": {
  "interpreter": {
   "hash": "31f2aee4e71d21fbe5cf8b01ff0e069b9275f58929596ceb00d14d90e3e16cd6"
  },
  "kernelspec": {
   "display_name": "Python 3.8.9 64-bit",
   "language": "python",
   "name": "python3"
  },
  "language_info": {
   "codemirror_mode": {
    "name": "ipython",
    "version": 3
   },
   "file_extension": ".py",
   "mimetype": "text/x-python",
   "name": "python",
   "nbconvert_exporter": "python",
   "pygments_lexer": "ipython3",
   "version": "3.8.9"
  },
  "orig_nbformat": 4
 },
 "nbformat": 4,
 "nbformat_minor": 2
}
