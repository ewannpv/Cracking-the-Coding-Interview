{
 "cells": [
  {
   "cell_type": "markdown",
   "metadata": {},
   "source": [
    "# Ewann"
   ]
  },
  {
   "cell_type": "code",
   "execution_count": 26,
   "metadata": {},
   "outputs": [],
   "source": [
    "# Import linked list implementation\n",
    "%run linked_lists.ipynb\n"
   ]
  },
  {
   "cell_type": "code",
   "execution_count": 31,
   "metadata": {},
   "outputs": [
    {
     "name": "stdout",
     "output_type": "stream",
     "text": [
      "(5) =>(6) =>(7) =>(5) =>(8) =>(9) =>(6) =>(6) =>\n",
      "(5) =>(6) =>(7) =>(8) =>(9) =>(6) =>\n"
     ]
    }
   ],
   "source": [
    "# 2.1\n",
    "# Remove Dups! Write code to remove duplicates from an unsorted linked list.\n",
    "def RemoveDups(data):\n",
    "    current_node = data.head\n",
    "    if not current_node:\n",
    "        return\n",
    "    dictionnary = {}\n",
    "    dictionnary[current_node.data] = True\n",
    "    while current_node.next:\n",
    "        if current_node.next.data in dictionnary.keys():\n",
    "            current_node.next = current_node.next.next\n",
    "        else:\n",
    "            dictionnary[current_node.next.data] = True\n",
    "        current_node = current_node.next\n",
    "    return data\n",
    "\n",
    "test_list = LinkedList()\n",
    "test_list.insert(5)\n",
    "test_list.insert(6)\n",
    "test_list.insert(7)\n",
    "test_list.insert(5)\n",
    "test_list.insert(8)\n",
    "test_list.insert(9)\n",
    "test_list.insert(6)\n",
    "test_list.insert(6)\n",
    "\n",
    "test_list.print()\n",
    "test_list = RemoveDups(test_list)\n",
    "test_list.print()"
   ]
  }
 ],
 "metadata": {
  "interpreter": {
   "hash": "31f2aee4e71d21fbe5cf8b01ff0e069b9275f58929596ceb00d14d90e3e16cd6"
  },
  "kernelspec": {
   "display_name": "Python 3.8.9 64-bit",
   "language": "python",
   "name": "python3"
  },
  "language_info": {
   "name": "python",
   "version": "3.8.9"
  },
  "orig_nbformat": 4
 },
 "nbformat": 4,
 "nbformat_minor": 2
}
