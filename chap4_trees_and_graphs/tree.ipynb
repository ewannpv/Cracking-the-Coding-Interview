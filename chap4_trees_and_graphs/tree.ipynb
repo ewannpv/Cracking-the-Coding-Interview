{
 "cells": [
  {
   "cell_type": "markdown",
   "metadata": {},
   "source": [
    "# Tree\n",
    "\n",
    "A nice way to understand a tree is with a recursive explanation. A tree is a data structure composed of\n",
    "nodes. "
   ]
  },
  {
   "cell_type": "code",
   "execution_count": 7,
   "metadata": {},
   "outputs": [],
   "source": [
    "LEFT = 0\n",
    "RIGHT = 1\n",
    "\n",
    "class TNode:\n",
    "    def __init__(self, data = None, children = []):\n",
    "        self.data = data\n",
    "        self.children = children\n",
    "\n",
    "class Tree:\n",
    "    def __init__(self, data = None):\n",
    "        self.root = Node(data)\n",
    "            \n",
    "    def _printBinaryTree(self,node, level = 0):\n",
    "        if node != None:\n",
    "            self._printBinaryTree(node.children[LEFT], level + 1)\n",
    "            print(' ' * 4 * level + '-> ' + node.data)\n",
    "            self._printBinaryTree(node.children[RIGHT], level + 1)\n",
    "\n",
    "    def printBinaryTree(self):\n",
    "        self._print(self.root)\n",
    "\n",
    "    \n",
    "\n"
   ]
  }
 ],
 "metadata": {
  "interpreter": {
   "hash": "31f2aee4e71d21fbe5cf8b01ff0e069b9275f58929596ceb00d14d90e3e16cd6"
  },
  "kernelspec": {
   "display_name": "Python 3.8.9 64-bit",
   "language": "python",
   "name": "python3"
  },
  "language_info": {
   "codemirror_mode": {
    "name": "ipython",
    "version": 3
   },
   "file_extension": ".py",
   "mimetype": "text/x-python",
   "name": "python",
   "nbconvert_exporter": "python",
   "pygments_lexer": "ipython3",
   "version": "3.8.9"
  },
  "orig_nbformat": 4
 },
 "nbformat": 4,
 "nbformat_minor": 2
}
