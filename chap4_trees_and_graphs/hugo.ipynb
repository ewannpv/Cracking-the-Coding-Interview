{
 "nbformat": 4,
 "nbformat_minor": 2,
 "metadata": {
  "language_info": {
   "name": "python",
   "codemirror_mode": {
    "name": "ipython",
    "version": 3
   },
   "version": "3.8.5-final"
  },
  "orig_nbformat": 2,
  "file_extension": ".py",
  "mimetype": "text/x-python",
  "name": "python",
  "npconvert_exporter": "python",
  "pygments_lexer": "ipython3",
  "version": 3,
  "kernelspec": {
   "name": "python38564bit40f713908f6440e19f878acec12028fe",
   "display_name": "Python 3.8.5 64-bit"
  }
 },
 "cells": [
  {
   "cell_type": "code",
   "execution_count": 9,
   "metadata": {},
   "outputs": [],
   "source": [
    "%run tree.ipynb\n",
    "%run graph.ipynb"
   ]
  },
  {
   "cell_type": "code",
   "execution_count": 10,
   "metadata": {},
   "outputs": [
    {
     "name": "stdout",
     "output_type": "stream",
     "text": "False\n"
    }
   ],
   "source": [
    "# 2.1\n",
    "\n",
    "def IsRouteBetweenNodes(node1, node2):\n",
    "    queue = [node1]\n",
    "    dict_nodes = {}\n",
    "\n",
    "    while len(queue) > 0:\n",
    "        current_node = queue.pop(0)\n",
    "        if current_node == node2:\n",
    "            return True\n",
    "        dict_nodes[current_node] = True\n",
    "        for child in current_node.children:\n",
    "            if child not in dict_nodes.keys():\n",
    "                queue.append(child)\n",
    "    return False\n",
    "\n",
    "node1 = GNode(1)\n",
    "node2 = GNode(2, [node1])\n",
    "node3 = GNode(3, [node1])\n",
    "node4 = GNode(4, [node2])\n",
    "node5 = GNode(5, [node3, node4])\n",
    "node6 = GNode(6, [])\n",
    "node7 = GNode(7, [node1])\n",
    "\n",
    "print(IsRouteBetweenNodes(node6, node1))\n"
   ]
  }
 ]
}