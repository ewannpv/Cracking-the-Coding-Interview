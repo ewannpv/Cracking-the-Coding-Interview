{
 "cells": [
  {
   "cell_type": "markdown",
   "metadata": {},
   "source": [
    "# Chap 2 - Ewann"
   ]
  },
  {
   "cell_type": "code",
   "execution_count": 2,
   "metadata": {},
   "outputs": [],
   "source": [
    "# Import linked list implementation\n",
    "%run linked_lists.ipynb\n"
   ]
  },
  {
   "cell_type": "code",
   "execution_count": 44,
   "metadata": {},
   "outputs": [
    {
     "name": "stdout",
     "output_type": "stream",
     "text": [
      "(5) =>(6) =>(7) =>(5) =>(8) =>(9) =>(6) =>(6) =>\n",
      "(5) =>(6) =>(7) =>(8) =>(9) =>\n"
     ]
    }
   ],
   "source": [
    "# 2.1\n",
    "# Remove Dups! Write code to remove duplicates from an unsorted linked list.\n",
    "def RemoveDups(data):\n",
    "    current_node = data.head\n",
    "    if not current_node:\n",
    "        return\n",
    "    dictionnary = {}\n",
    "    dictionnary[current_node.data] = True\n",
    "    while current_node.next:\n",
    "        if current_node.next.data in dictionnary.keys():\n",
    "            current_node.next = current_node.next.next\n",
    "        else:\n",
    "            dictionnary[current_node.next.data] = True\n",
    "            current_node = current_node.next\n",
    "    return data\n",
    "\n",
    "\n",
    "test_list = LinkedList()\n",
    "test_list.insert(5)\n",
    "test_list.insert(6)\n",
    "test_list.insert(7)\n",
    "test_list.insert(5)\n",
    "test_list.insert(8)\n",
    "test_list.insert(9)\n",
    "test_list.insert(6)\n",
    "test_list.insert(6)\n",
    "\n",
    "test_list.print()\n",
    "test_list = RemoveDups(test_list)\n",
    "test_list.print()\n"
   ]
  },
  {
   "cell_type": "code",
   "execution_count": 28,
   "metadata": {},
   "outputs": [
    {
     "name": "stdout",
     "output_type": "stream",
     "text": [
      "(5) =>(6) =>(7) =>(5) =>(8) =>(9) =>(6) =>(8) =>\n",
      "6\n",
      "6\n"
     ]
    },
    {
     "data": {
      "text/plain": [
       "7"
      ]
     },
     "execution_count": 28,
     "metadata": {},
     "output_type": "execute_result"
    }
   ],
   "source": [
    "# 2.2 Return Kth to Last: Implement an algorithm to find the kth to last element of a singly linked list.\n",
    "def RetunKThTolast(data, k):\n",
    "    current_node = data.head\n",
    "    if not current_node:\n",
    "        return\n",
    "\n",
    "    list_len = 0\n",
    "    while current_node:\n",
    "        list_len += 1\n",
    "        current_node = current_node.next\n",
    "    current_node = data.head\n",
    "\n",
    "    position = list_len-k - 1\n",
    "    if position < 0:\n",
    "        return\n",
    "    while position > 0:\n",
    "        current_node = current_node.next\n",
    "        position -= 1\n",
    "    return current_node.data\n",
    "\n",
    "\n",
    "def RecRetunKThTolast(data, k):\n",
    "    if not data:\n",
    "        return -1\n",
    "    index = 1 + RecRetunKThTolast(data.next, k)\n",
    "    if index == k:\n",
    "        print(data.data)\n",
    "    return index\n",
    "\n",
    "test_list = LinkedList()\n",
    "test_list.insert(5)\n",
    "test_list.insert(6)\n",
    "test_list.insert(7)\n",
    "test_list.insert(5)\n",
    "test_list.insert(8)\n",
    "test_list.insert(9)\n",
    "test_list.insert(6)\n",
    "test_list.insert(8)\n",
    "\n",
    "test_list.print()\n",
    "print(RetunKThTolast(test_list, 1))\n",
    "RecRetunKThTolast(test_list.head, 1)\n"
   ]
  },
  {
   "cell_type": "code",
   "execution_count": 74,
   "metadata": {},
   "outputs": [
    {
     "name": "stdout",
     "output_type": "stream",
     "text": [
      "(1) =>(2) =>(3) =>(4) =>(5) =>(6) =>(7) =>(8) =>(9) =>\n",
      "(1) =>(2) =>(3) =>(4) =>(6) =>(7) =>(8) =>(9) =>\n",
      "(1) =>(2) =>(3) =>(4) =>(7) =>(8) =>(9) =>\n",
      "(1) =>(2) =>(3) =>(7) =>(8) =>(9) =>\n",
      "(1) =>(2) =>(3) =>(8) =>(9) =>\n",
      "(1) =>(2) =>(8) =>(9) =>\n",
      "(1) =>(2) =>(9) =>\n",
      "(1) =>(9) =>\n"
     ]
    }
   ],
   "source": [
    "# 2.3 Delete Middle Node: Implement an algorithm to delete a node in the middle\n",
    "# (i.e., any node but the first and last node, not necessarily the exact middle) of a singly linked list,\n",
    "# given only access to that node.\n",
    "\n",
    "def _DeleteMiddleNode(data,index_start = 1):\n",
    "    if not data:\n",
    "        return -1\n",
    "    index_end = 1 + _DeleteMiddleNode(data.next, index_start + 1)\n",
    "    delta = index_end - index_start\n",
    "    if delta == 0 or delta == 1:\n",
    "        data.next = data.next.next\n",
    "    return index_end\n",
    "\n",
    "\n",
    "def DeleteMiddleNode(data):\n",
    "    return  _DeleteMiddleNode(data.head)\n",
    "\n",
    "def DeleteMiddleNodeOpti(data):\n",
    "    p1 = data.head\n",
    "    p2 = data.head\n",
    "    while p2.next.next and p2.next.next.next:\n",
    "        p1 = p1.next\n",
    "        p2 = p2.next.next\n",
    "    p1.next = p1.next.next\n",
    "\n",
    "\n",
    "\n",
    "test_list = LinkedList()\n",
    "test_list.insert(1)\n",
    "test_list.insert(2)\n",
    "test_list.insert(3)\n",
    "test_list.insert(4)\n",
    "test_list.insert(5)\n",
    "test_list.insert(6)\n",
    "test_list.insert(7)\n",
    "test_list.insert(8)\n",
    "test_list.insert(9)\n",
    "test_list.print()\n",
    "# DeleteMiddleNode(test_list.head)\n",
    "DeleteMiddleNodeOpti(test_list)\n",
    "test_list.print()\n",
    "\n",
    "DeleteMiddleNodeOpti(test_list)\n",
    "test_list.print()\n",
    "\n",
    "DeleteMiddleNodeOpti(test_list)\n",
    "test_list.print()\n",
    "\n",
    "DeleteMiddleNodeOpti(test_list)\n",
    "test_list.print()\n",
    "\n",
    "DeleteMiddleNodeOpti(test_list)\n",
    "test_list.print()\n",
    "\n",
    "DeleteMiddleNodeOpti(test_list)\n",
    "test_list.print()\n",
    "\n",
    "DeleteMiddleNodeOpti(test_list)\n",
    "test_list.print()\n"
   ]
  },
  {
   "cell_type": "code",
   "execution_count": 89,
   "metadata": {},
   "outputs": [
    {
     "name": "stdout",
     "output_type": "stream",
     "text": [
      "(7) =>(3) =>(8) =>(9) =>(1) =>(5) =>(5) =>(4) =>\n",
      "<__main__.Node object at 0x121f2ca90>\n",
      "(7) =>(8) =>(9) =>(5) =>(5) =>(4) =>(1) =>(3) =>(None) =>\n"
     ]
    }
   ],
   "source": [
    "# 2.4\n",
    "# Partition: Write code to partition a linked list around a value x, such that all nodes less than x come before all nodes greater than or equal to x. \n",
    "# If x is contained within the list, the values of x only need to be after the elements less than x (see below). \n",
    "# The partition element x can appear anywhere in the \"right partition\"; \n",
    "# it does not need to appear between the left and right partitions.\n",
    "\n",
    "def Partition(data, k):\n",
    "    head = Node()\n",
    "    tail = Node()\n",
    "\n",
    "    current_node = data.head\n",
    "    while current_node:\n",
    "        next_node = current_node.next\n",
    "        if  current_node.data < k:\n",
    "            current_node.next = head\n",
    "            head = current_node\n",
    "        else:\n",
    "            tail.next = current_node\n",
    "            tail = current_node\n",
    "        current_node = next_node\n",
    "    head.next = None\n",
    "    return head\n",
    "            \n",
    "test_list = LinkedList()\n",
    "test_list.insert(7)\n",
    "test_list.insert(3)\n",
    "test_list.insert(8)\n",
    "test_list.insert(9)\n",
    "test_list.insert(1)\n",
    "test_list.insert(5)\n",
    "test_list.insert(5)\n",
    "test_list.insert(4)\n",
    "\n",
    "test_list.print()\n",
    "print(Partition(test_list, 5))\n",
    "test_list.print()"
   ]
  }
 ],
 "metadata": {
  "interpreter": {
   "hash": "31f2aee4e71d21fbe5cf8b01ff0e069b9275f58929596ceb00d14d90e3e16cd6"
  },
  "kernelspec": {
   "display_name": "Python 3.8.9 64-bit",
   "language": "python",
   "name": "python3"
  },
  "language_info": {
   "codemirror_mode": {
    "name": "ipython",
    "version": 3
   },
   "file_extension": ".py",
   "mimetype": "text/x-python",
   "name": "python",
   "nbconvert_exporter": "python",
   "pygments_lexer": "ipython3",
   "version": "3.8.9"
  },
  "orig_nbformat": 4
 },
 "nbformat": 4,
 "nbformat_minor": 2
}
