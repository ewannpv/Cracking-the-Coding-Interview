{
 "cells": [
  {
   "cell_type": "markdown",
   "metadata": {},
   "source": [
    "# Stacks\n",
    "\n",
    "The stack data structure is precisely what it sounds like: a stack of data. In certain types of problems, it can\n",
    "be favorable to store data in a stack rather than in an array.\n",
    "A stack uses LIFO (last-in first-out) ordering. That is, as in a stack of dinner plates, the most recent item\n",
    "added to the stack is the first item to be removed."
   ]
  },
  {
   "cell_type": "code",
   "execution_count": 3,
   "metadata": {},
   "outputs": [],
   "source": [
    "class Stack:\n",
    "    def __init__(self, data=[]):\n",
    "        self.data = data\n",
    "\n",
    "    def pop(self):\n",
    "        return self.data.pop(0)\n",
    "\n",
    "    def push(self, item):\n",
    "        self.data = [item] + self.data\n",
    "\n",
    "    def peek(self):\n",
    "        if len(self.data):\n",
    "            return self.data[0]\n",
    "\n",
    "    def isEmpty(self):\n",
    "        return len(self.data) == 0\n",
    "\n",
    "    def print(self):\n",
    "        output = \"\"\n",
    "        for element in self.data:\n",
    "            output += \"(\"+str(element)+\") <==\"\n",
    "        print(output)\n"
   ]
  }
 ],
 "metadata": {
  "interpreter": {
   "hash": "31f2aee4e71d21fbe5cf8b01ff0e069b9275f58929596ceb00d14d90e3e16cd6"
  },
  "kernelspec": {
   "display_name": "Python 3.8.9 64-bit",
   "language": "python",
   "name": "python3"
  },
  "language_info": {
   "codemirror_mode": {
    "name": "ipython",
    "version": 3
   },
   "file_extension": ".py",
   "mimetype": "text/x-python",
   "name": "python",
   "nbconvert_exporter": "python",
   "pygments_lexer": "ipython3",
   "version": "3.8.9"
  },
  "orig_nbformat": 4
 },
 "nbformat": 4,
 "nbformat_minor": 2
}
