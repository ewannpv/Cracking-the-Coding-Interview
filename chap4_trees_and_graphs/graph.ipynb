{
 "nbformat": 4,
 "nbformat_minor": 2,
 "metadata": {
  "language_info": {
   "name": "python",
   "codemirror_mode": {
    "name": "ipython",
    "version": 3
   },
   "version": "3.8.5-final"
  },
  "orig_nbformat": 2,
  "file_extension": ".py",
  "mimetype": "text/x-python",
  "name": "python",
  "npconvert_exporter": "python",
  "pygments_lexer": "ipython3",
  "version": 3,
  "kernelspec": {
   "name": "python38564bit40f713908f6440e19f878acec12028fe",
   "display_name": "Python 3.8.5 64-bit"
  }
 },
 "cells": [
  {
   "cell_type": "code",
   "execution_count": null,
   "metadata": {},
   "outputs": [],
   "source": []
  },
  {
   "cell_type": "code",
   "execution_count": 13,
   "metadata": {},
   "outputs": [],
   "source": [
    "class Node:\n",
    "    def __init__(self, data, children=[]):\n",
    "        self.data = data\n",
    "        self.children = children\n",
    "\n",
    "class Graph:\n",
    "    def __init__(self, nodes=[]):\n",
    "        self.nodes = nodes\n",
    "\n",
    "def _DFSSearch(node, data, dict_nodes):\n",
    "    if node == None:\n",
    "        return\n",
    "    if node.data == data:\n",
    "        return node\n",
    "    dict_nodes[node] = True\n",
    "    for child in node.children:\n",
    "        if child not in dict_nodes.keys():\n",
    "            _DFSSearch(child, data, dict_nodes)\n",
    "    return\n",
    "\n",
    "def DFSSearch(node, data):\n",
    "    return _DFSSearch(node, data, {})\n",
    "\n",
    "def BFSSearch(node, data):\n",
    "    queue = [node]\n",
    "    while len(queue) > 0:\n",
    "        current_node = queue.pop()\n"
   ]
  }
 ]
}