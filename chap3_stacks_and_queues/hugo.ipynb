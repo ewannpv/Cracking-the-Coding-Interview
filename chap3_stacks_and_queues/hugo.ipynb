{
 "nbformat": 4,
 "nbformat_minor": 2,
 "metadata": {
  "language_info": {
   "name": "python",
   "codemirror_mode": {
    "name": "ipython",
    "version": 3
   },
   "version": "3.8.5-final"
  },
  "orig_nbformat": 2,
  "file_extension": ".py",
  "mimetype": "text/x-python",
  "name": "python",
  "npconvert_exporter": "python",
  "pygments_lexer": "ipython3",
  "version": 3,
  "kernelspec": {
   "name": "python38564bit40f713908f6440e19f878acec12028fe",
   "display_name": "Python 3.8.5 64-bit"
  }
 },
 "cells": [
  {
   "cell_type": "code",
   "execution_count": 62,
   "metadata": {},
   "outputs": [
    {
     "name": "stdout",
     "output_type": "stream",
     "text": "(0) <==(2) <==(3) <==(4) <==(5) <==(6) <==(7) <==(8) <==\n(0) ==>(1) ==>(2) ==>(3) ==>(4) ==>(5) ==>(6) ==>(7) ==>\n"
    }
   ],
   "source": [
    "# Import Stack and Queueimplementations.\n",
    "%run stack.ipynb\n",
    "%run queue_hugo.ipynb\n",
    "\n",
    "stack = Stack([1, 2, 3, 4, 5, 6, 7, 8])\n",
    "stack.pop()\n",
    "stack.push(0)\n",
    "stack.print()\n",
    "\n",
    "queue = Queue([1, 2, 3, 4, 5, 6, 7, 8])\n",
    "queue.pop()\n",
    "queue.push(0)\n",
    "queue.print()"
   ]
  },
  {
   "cell_type": "code",
   "execution_count": 63,
   "metadata": {},
   "outputs": [],
   "source": [
    "class Node:\n",
    "    def __init__(self, data = None, next = None):\n",
    "        self.data = data\n",
    "        self.next = next\n",
    "\n",
    "class LinkedList:\n",
    "    def __init__(self):\n",
    "        self.head = None\n",
    "    \n",
    "    def insert(self, data):\n",
    "        new_node = Node(data)\n",
    "        current_node = self.head\n",
    "        if not current_node:\n",
    "            self.head = new_node\n",
    "            return\n",
    "        \n",
    "        while current_node.next:\n",
    "            current_node = current_node.next\n",
    "        current_node.next = new_node\n",
    "    \n",
    "    def delete(self, data):\n",
    "        current_node = self.head\n",
    "        if not current_node:\n",
    "            return\n",
    "        if(current_node.data == data):\n",
    "            self.head = current_node.next\n",
    "            return current_node.data\n",
    "        while(current_node.next):\n",
    "            next_node = current_node.next\n",
    "            if(next_node.data == data):\n",
    "                current_node.next = next_node.next\n",
    "                return next_node.data\n",
    "            current_node = next_node        \n",
    "    \n",
    "    def print(self):\n",
    "        output = \"\"\n",
    "        current_node = self.head\n",
    "        while current_node:\n",
    "            output += \"(\"+str(current_node.data)+\") =>\"\n",
    "            current_node = current_node.next\n",
    "        print(output)\n"
   ]
  },
  {
   "cell_type": "code",
   "execution_count": 64,
   "metadata": {},
   "outputs": [],
   "source": [
    "# 3.2\n",
    "# have the min of everything beneath at each node"
   ]
  },
  {
   "cell_type": "code",
   "execution_count": 65,
   "metadata": {},
   "outputs": [],
   "source": [
    "# 3.4"
   ]
  },
  {
   "cell_type": "code",
   "execution_count": 66,
   "metadata": {},
   "outputs": [
    {
     "name": "stdout",
     "output_type": "stream",
     "text": "(6) <==(4) <==(9) <==(7) <==(3) <==(10) <==(11) <==\n(3) <==(4) <==(6) <==(7) <==(9) <==(10) <==(11) <==\n"
    }
   ],
   "source": [
    "# 3.5\n",
    "\n",
    "def SortStack(stack):\n",
    "    tmp_stack = Stack()\n",
    "    while stack.peek():\n",
    "        elmt = stack.pop()\n",
    "        while tmp_stack.peek() and elmt < tmp_stack.peek():\n",
    "            stack.push(tmp_stack.pop())\n",
    "        tmp_stack.push(elmt)\n",
    "    while tmp_stack.peek():\n",
    "        stack.push(tmp_stack.pop())\n",
    "\n",
    "stack = Stack([6, 4, 9, 7, 3, 10, 11])\n",
    "stack.print()\n",
    "\n",
    "SortStack(stack)\n",
    "stack.print()\n",
    "\n",
    "    "
   ]
  },
  {
   "cell_type": "code",
   "execution_count": 67,
   "metadata": {},
   "outputs": [
    {
     "name": "stdout",
     "output_type": "stream",
     "text": "dogs: \n(dog3) ==>(dog2) ==>(dog1) ==>\ncats: \n(cat3) ==>(cat2) ==>(cat1) ==>\nlist: \n(dog) =>(cat) =>(dog) =>(dog) =>(cat) =>(cat) =>\ndog1\ndogs: \n(dog3) ==>(dog2) ==>\ncats: \n(cat3) ==>(cat2) ==>(cat1) ==>\nlist: \n(cat) =>(dog) =>(dog) =>(cat) =>(cat) =>\ndog2\ndogs: \n(dog3) ==>\ncats: \n(cat3) ==>(cat2) ==>(cat1) ==>\nlist: \n(cat) =>(dog) =>(cat) =>(cat) =>\ncat1\ndogs: \n(dog3) ==>\ncats: \n(cat3) ==>(cat2) ==>\nlist: \n(dog) =>(cat) =>(cat) =>\n"
    }
   ],
   "source": [
    "# 3.6\n",
    "class AnimalSheltenAn():\n",
    "    def __init__(self):\n",
    "        self.dogs = Queue()\n",
    "        self.cats = Queue()\n",
    "        self.linked_list_order = LinkedList()\n",
    "\n",
    "    def enqueue(self, name, is_dog):\n",
    "        if is_dog:\n",
    "            self.dogs.push(name)\n",
    "            self.linked_list_order.insert('dog')\n",
    "        else:\n",
    "            self.cats.push(name)\n",
    "            self.linked_list_order.insert('cat')\n",
    "    \n",
    "    def dequeueAny(self):\n",
    "        is_dog = self.linked_list_order.head.data == 'dog'\n",
    "        self.linked_list_order.head = self.linked_list_order.head.next\n",
    "        if is_dog:\n",
    "            return self.dogs.pop()\n",
    "        return self.cats.pop()\n",
    "    \n",
    "    def dequeueDog(self):\n",
    "        node = self.linked_list_order.head\n",
    "        if node.data != 'dog':\n",
    "            while node.next.data != 'dog':\n",
    "                node = node.next\n",
    "            node.next = node.next.next\n",
    "        else:\n",
    "            self.linked_list_order.head = node.next\n",
    "        return self.dogs.pop()\n",
    "    \n",
    "    def dequeueCat(self):\n",
    "        node = self.linked_list_order.head\n",
    "        if node.data != 'cat':\n",
    "            while node.next.data != 'cat':\n",
    "                node = node.next\n",
    "            node.next = node.next.next\n",
    "        else:\n",
    "            self.linked_list_order.head = node.next\n",
    "        return self.cats.pop()\n",
    "    \n",
    "    def print(self):\n",
    "        print('dogs: ')\n",
    "        self.dogs.print()\n",
    "        print('cats: ')\n",
    "        self.cats.print()\n",
    "        print('list: ')\n",
    "        self.linked_list_order.print()\n",
    "\n",
    "animal_shelter = AnimalSheltenAn()\n",
    "animal_shelter.enqueue('dog1', True)\n",
    "animal_shelter.enqueue('cat1', False)\n",
    "animal_shelter.enqueue('dog2', True)\n",
    "animal_shelter.enqueue('dog3', True)\n",
    "animal_shelter.enqueue('cat2', False)\n",
    "animal_shelter.enqueue('cat3', False)\n",
    "animal_shelter.print()\n",
    "\n",
    "print(animal_shelter.dequeueAny())\n",
    "animal_shelter.print()\n",
    "print(animal_shelter.dequeueDog())\n",
    "animal_shelter.print()\n",
    "print(animal_shelter.dequeueCat())\n",
    "animal_shelter.print()"
   ]
  }
 ]
}