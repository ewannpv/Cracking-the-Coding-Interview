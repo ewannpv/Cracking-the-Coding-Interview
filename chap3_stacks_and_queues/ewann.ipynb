{
 "cells": [
  {
   "cell_type": "markdown",
   "metadata": {},
   "source": [
    "# Chap 3 - Ewann"
   ]
  },
  {
   "cell_type": "code",
   "execution_count": 21,
   "metadata": {},
   "outputs": [
    {
     "name": "stdout",
     "output_type": "stream",
     "text": [
      "(0) <==(2) <==(3) <==(4) <==(5) <==(6) <==(7) <==(8) <==\n",
      "(0) ==>(1) ==>(2) ==>(3) ==>(4) ==>(5) ==>(6) ==>(7) ==>\n"
     ]
    }
   ],
   "source": [
    "# Import Stack and Queueimplementations.\n",
    "%run stack.ipynb\n",
    "%run queue.ipynb\n",
    "\n",
    "\"\"\"\n",
    "stack = Stack([1, 2, 3, 4, 5, 6, 7, 8])\n",
    "stack.pop()\n",
    "stack.push(0)\n",
    "stack.print()\n",
    "\n",
    "queue = Queue([1, 2, 3, 4, 5, 6, 7, 8])\n",
    "queue.remove()\n",
    "queue.add(0)\n",
    "queue.print()\n",
    "\"\"\"\n"
   ]
  },
  {
   "cell_type": "code",
   "execution_count": null,
   "metadata": {},
   "outputs": [],
   "source": [
    "# 3.1\n",
    "# Three in One: Describe how you could use a single array to implement three stacks\n",
    "\n",
    "# Use modulo + the indice of the stack.\n"
   ]
  },
  {
   "cell_type": "code",
   "execution_count": null,
   "metadata": {},
   "outputs": [],
   "source": [
    "# 3.2 \n",
    "# Stack Min: How would you design a stack which, in addition to push and pop, has a function min \n",
    "# which returns the minimum element? Push, pop and min should all operate in 0(1) time. \n",
    "\n",
    "\"\"\"\n",
    "Store values with the current min\n",
    "\"\"\"\n"
   ]
  },
  {
   "cell_type": "code",
   "execution_count": null,
   "metadata": {},
   "outputs": [],
   "source": [
    "# 3.3 \n",
    "# Stack of Plates: Imagine a (literal) stack of plates. If the stack gets too high, it might topple. \n",
    "# Therefore, in real life, we would likely start a new stack when the previous stack exceeds some\n",
    "# threshold. Implement a data structure SetOfStacks that mimics this. SetO-fStacks should be\n",
    "# composed of several stacks and should create a new stack once the previous one exceeds capacity. \n",
    "# SetOfStacks. push() and SetOfStacks. pop() should behave identically to a single stack \n",
    "# (that is, pop () should return the same values as it would if there were just a single stack).\n",
    "# FOLLOW UP \n",
    "# Implement a function popAt ( int index) which performs a pop operation on a specific sub-stack\n",
    "\n",
    "\"\"\"\n",
    "Bullshit question.\n",
    "\"\"\"\n"
   ]
  },
  {
   "cell_type": "code",
   "execution_count": null,
   "metadata": {},
   "outputs": [],
   "source": [
    "# 3.4 \n",
    "# Queue via Stacks: Implement a MyQueue class which implements a queue using two stacks. \n",
    "\n",
    "\n",
    "\"\"\"\n",
    "Stack 1:[]\n",
    "Stack 2(Queue):[1,2,3]\n",
    "\n",
    "we want to push 4\n",
    "\n",
    "stack 1: pop all stack 2 in stack 1: [3,2,1] + push(4)\n",
    "stack 2(Queue): pop all stack 1 in stack 2:[4,3,2,1]\n",
    "\"\"\"\n"
   ]
  }
 ],
 "metadata": {
  "interpreter": {
   "hash": "31f2aee4e71d21fbe5cf8b01ff0e069b9275f58929596ceb00d14d90e3e16cd6"
  },
  "kernelspec": {
   "display_name": "Python 3.8.9 64-bit",
   "language": "python",
   "name": "python3"
  },
  "language_info": {
   "codemirror_mode": {
    "name": "ipython",
    "version": 3
   },
   "file_extension": ".py",
   "mimetype": "text/x-python",
   "name": "python",
   "nbconvert_exporter": "python",
   "pygments_lexer": "ipython3",
   "version": "3.8.9"
  },
  "orig_nbformat": 4
 },
 "nbformat": 4,
 "nbformat_minor": 2
}
