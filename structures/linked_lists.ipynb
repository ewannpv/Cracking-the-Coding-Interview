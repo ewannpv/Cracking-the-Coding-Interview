{
 "cells": [
  {
   "cell_type": "markdown",
   "metadata": {},
   "source": [
    "# Linked lists\n",
    "## A single node of a singly linked list\n",
    "\n"
   ]
  },
  {
   "cell_type": "code",
   "execution_count": 16,
   "metadata": {},
   "outputs": [
    {
     "name": "stdout",
     "output_type": "stream",
     "text": [
      "(5)=>(8)=>(1)=>(4)=>\n",
      "(5)=>(8)=>(1)=>\n"
     ]
    }
   ],
   "source": [
    "# A single node of a singly linked list\n",
    "class Node:\n",
    "  # constructor\n",
    "  def __init__(self, data = None, next=None): \n",
    "    self.data = data\n",
    "    self.next = next\n",
    "\n",
    "# A Linked List class with a single head node\n",
    "class LinkedList:\n",
    "  def __init__(self):  \n",
    "    self.head = None\n",
    "  \n",
    "  # insertion method for the linked list\n",
    "  def insert(self, data):\n",
    "    newNode = Node(data)\n",
    "    if(self.head):\n",
    "      current = self.head\n",
    "      while(current.next):\n",
    "        current = current.next\n",
    "      current.next = newNode\n",
    "    else:\n",
    "      self.head = newNode\n",
    "  \n",
    "  def delete(self, data):\n",
    "    currentNode = self.head\n",
    "    if(currentNode.data == data):\n",
    "      self.head = currentNode.next\n",
    "      return currentNode.data\n",
    "    while(currentNode.next):\n",
    "      nextNode = currentNode.next\n",
    "      if(nextNode.data == data):\n",
    "        currentNode.next = nextNode.next\n",
    "        return nextNode.data\n",
    "      currentNode = nextNode\n",
    "  \n",
    "  def __str__(self):\n",
    "    out = \"\"\n",
    "    current = self.head\n",
    "    while(current):\n",
    "      out += \"(\"+str(current.data)+\")=>\"\n",
    "      current = current.next\n",
    "    return out\n",
    "\n",
    "# Singly Linked List with insertion and print methods\n",
    "linked = LinkedList()\n",
    "linked.insert(5)\n",
    "linked.insert(8)\n",
    "linked.insert(1)\n",
    "linked.insert(4)\n",
    "print(linked)\n",
    "\n",
    "linked.delete(4)\n",
    "print(linked)\n"
   ]
  }
 ],
 "metadata": {
  "interpreter": {
   "hash": "31f2aee4e71d21fbe5cf8b01ff0e069b9275f58929596ceb00d14d90e3e16cd6"
  },
  "kernelspec": {
   "display_name": "Python 3.8.9 64-bit",
   "language": "python",
   "name": "python3"
  },
  "language_info": {
   "codemirror_mode": {
    "name": "ipython",
    "version": 3
   },
   "file_extension": ".py",
   "mimetype": "text/x-python",
   "name": "python",
   "nbconvert_exporter": "python",
   "pygments_lexer": "ipython3",
   "version": "3.8.9"
  },
  "orig_nbformat": 4
 },
 "nbformat": 4,
 "nbformat_minor": 2
}
